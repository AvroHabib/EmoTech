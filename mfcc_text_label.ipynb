{
  "nbformat": 4,
  "nbformat_minor": 0,
  "metadata": {
    "colab": {
      "provenance": []
    },
    "kernelspec": {
      "name": "python3",
      "display_name": "Python 3"
    },
    "language_info": {
      "name": "python"
    }
  },
  "cells": [
    {
      "cell_type": "code",
      "execution_count": null,
      "metadata": {
        "colab": {
          "base_uri": "https://localhost:8080/"
        },
        "id": "OLWHVG4Ss-Sj",
        "outputId": "c537de4f-49f4-4525-9cff-453fd347463a"
      },
      "outputs": [
        {
          "output_type": "stream",
          "name": "stdout",
          "text": [
            "Mounted at /content/drive\n"
          ]
        }
      ],
      "source": [
        "from google.colab import drive\n",
        "import pickle\n",
        "drive.mount('/content/drive')"
      ]
    },
    {
      "cell_type": "code",
      "source": [
        "import pandas as pd\n",
        "import seaborn as sns\n",
        "import matplotlib.pyplot as plt\n"
      ],
      "metadata": {
        "id": "3tjwfd-Bunri"
      },
      "execution_count": null,
      "outputs": []
    },
    {
      "cell_type": "markdown",
      "source": [
        "Importing DataFrame from all sessions and combining them together"
      ],
      "metadata": {
        "id": "ub0xyEc2L5xS"
      }
    },
    {
      "cell_type": "code",
      "source": [
        "file_path = '/content/drive/MyDrive/dataframe_ses1.pickle'\n",
        "\n",
        "# Open the file in binary read mode\n",
        "with open(file_path, 'rb') as f:\n",
        "    # Load the data from the file\n",
        "    dataframe_ses1 = pickle.load(f)"
      ],
      "metadata": {
        "id": "HoLkdmvFtPTB"
      },
      "execution_count": null,
      "outputs": []
    },
    {
      "cell_type": "code",
      "source": [
        "file_path = '/content/drive/MyDrive/dataframe_ses2.pickle'\n",
        "\n",
        "# Open the file in binary read mode\n",
        "with open(file_path, 'rb') as f:\n",
        "    # Load the data from the file\n",
        "    dataframe_ses2 = pickle.load(f)"
      ],
      "metadata": {
        "id": "qCE9_0kjtONI"
      },
      "execution_count": null,
      "outputs": []
    },
    {
      "cell_type": "code",
      "source": [
        "file_path = '/content/drive/MyDrive/dataframe_ses3.pickle'\n",
        "\n",
        "# Open the file in binary read mode\n",
        "with open(file_path, 'rb') as f:\n",
        "    # Load the data from the file\n",
        "    dataframe_ses3 = pickle.load(f)"
      ],
      "metadata": {
        "id": "VZ1FqKw3tz66"
      },
      "execution_count": null,
      "outputs": []
    },
    {
      "cell_type": "code",
      "source": [
        "file_path = '/content/drive/MyDrive/dataframe_ses4.pickle'\n",
        "\n",
        "# Open the file in binary read mode\n",
        "with open(file_path, 'rb') as f:\n",
        "    # Load the data from the file\n",
        "    dataframe_ses4 = pickle.load(f)"
      ],
      "metadata": {
        "id": "c3WAMmArt3gA"
      },
      "execution_count": null,
      "outputs": []
    },
    {
      "cell_type": "code",
      "source": [
        "file_path = '/content/drive/MyDrive/dataframe_ses5.pickle'\n",
        "\n",
        "# Open the file in binary read mode\n",
        "with open(file_path, 'rb') as f:\n",
        "    # Load the data from the file\n",
        "    dataframe_ses5 = pickle.load(f)"
      ],
      "metadata": {
        "id": "iO8gxNHWt8f9"
      },
      "execution_count": null,
      "outputs": []
    },
    {
      "cell_type": "code",
      "source": [
        "dataframe_final = pd.concat([dataframe_ses1,dataframe_ses2,dataframe_ses3,dataframe_ses4,dataframe_ses5],axis = 0 ,ignore_index = True)"
      ],
      "metadata": {
        "id": "OP1lLTlsuij5"
      },
      "execution_count": null,
      "outputs": []
    },
    {
      "cell_type": "markdown",
      "source": [
        "Saving final DataFrame"
      ],
      "metadata": {
        "id": "wnnIsOJBMUj0"
      }
    },
    {
      "cell_type": "code",
      "source": [
        "path = '/content/drive/MyDrive/dataframe_final.pickle'\n",
        "\n",
        "\n",
        "# Open the file in binary write mode\n",
        "with open(path, 'wb') as f:\n",
        "    # Dump the data into the file\n",
        "    pickle.dump(dataframe_final, f)"
      ],
      "metadata": {
        "id": "rnFKRwlV6eWF"
      },
      "execution_count": null,
      "outputs": []
    },
    {
      "cell_type": "code",
      "source": [
        "hap_samples = dataframe_final[dataframe_final['emotion'] == 'hap']\n",
        "print(hap_samples.shape)"
      ],
      "metadata": {
        "colab": {
          "base_uri": "https://localhost:8080/"
        },
        "id": "MqhmA1L72eLr",
        "outputId": "edc535d0-f1ae-441e-fba8-d16b7075460c"
      },
      "execution_count": null,
      "outputs": [
        {
          "output_type": "stream",
          "name": "stdout",
          "text": [
            "(595, 5)\n"
          ]
        }
      ]
    },
    {
      "cell_type": "code",
      "source": [
        "hap_text = list(hap_samples['text'])"
      ],
      "metadata": {
        "id": "PMZOeJSP7kVf"
      },
      "execution_count": null,
      "outputs": []
    },
    {
      "cell_type": "markdown",
      "source": [
        "Count Plot of IEMOCAP Dataset"
      ],
      "metadata": {
        "id": "37Fv4mnqM7l6"
      }
    },
    {
      "cell_type": "code",
      "source": [
        "plt.figure(figsize=(10, 6))\n",
        "sns.countplot(data=dataframe_final, x='emotion')\n",
        "\n",
        "# Customize the plot (optional)\n",
        "plt.title('Count Plot of Emotions')\n",
        "plt.xlabel('Emotion')\n",
        "plt.ylabel('Count')\n",
        "plt.show()"
      ],
      "metadata": {
        "colab": {
          "base_uri": "https://localhost:8080/",
          "height": 564
        },
        "id": "9zvZAa3gziun",
        "outputId": "deeb8e00-5d1b-42e0-8aa8-85778dae4c3f"
      },
      "execution_count": null,
      "outputs": [
        {
          "output_type": "display_data",
          "data": {
            "text/plain": [
              "<Figure size 1000x600 with 1 Axes>"
            ],
            "image/png": "[encoded data removed]"
          },
          "metadata": {}
        }
      ]
    },
    {
      "cell_type": "markdown",
      "source": [
        "Downsampling neutral class"
      ],
      "metadata": {
        "id": "DhypATaNNDnu"
      }
    },
    {
      "cell_type": "code",
      "source": [
        "neu_samples = dataframe_final[dataframe_final['emotion'] == 'neu']\n",
        "\n",
        "# Randomly select 2 samples to remove (in your actual case, use n=2500)\n",
        "samples_to_remove = neu_samples.sample(n=3100, random_state=42)\n",
        "\n",
        "# Remove these samples from the DataFrame\n",
        "df = dataframe_final.drop(samples_to_remove.index)"
      ],
      "metadata": {
        "id": "z1Sn5Ech1jrS"
      },
      "execution_count": null,
      "outputs": []
    },
    {
      "cell_type": "code",
      "source": [
        "indices_to_drop = df[(df['emotion'] == 'fru')|(df['emotion'] == 'sur')|(df['emotion'] == 'oth')|(df['emotion'] == 'fea')|(df['emotion'] == 'dis')].index\n",
        "df_dropped = df.drop(index=indices_to_drop)"
      ],
      "metadata": {
        "id": "4QaIcYbk32qj"
      },
      "execution_count": null,
      "outputs": []
    },
    {
      "cell_type": "code",
      "source": [
        "df_dropped.reset_index(drop=True, inplace=True)"
      ],
      "metadata": {
        "id": "Iovtz0H578bn"
      },
      "execution_count": null,
      "outputs": []
    },
    {
      "cell_type": "code",
      "source": [
        "df_dropped"
      ],
      "metadata": {
        "colab": {
          "base_uri": "https://localhost:8080/",
          "height": 423
        },
        "id": "D9XUtrD38iHX",
        "outputId": "07d3765a-7f3f-4bea-f67e-7532307669a0"
      },
      "execution_count": null,
      "outputs": [
        {
          "output_type": "execute_result",
          "data": {
            "text/plain": [
              "                     time                filename emotion  \\\n",
              "0       22.3200 - 24.6667  Ses01F_script01_1_F003     neu   \n",
              "1       40.0200 - 44.9688  Ses01F_script01_1_F005     neu   \n",
              "2       46.9500 - 52.3200  Ses01F_script01_1_F006     neu   \n",
              "3       58.9500 - 60.8800  Ses01F_script01_1_F007     neu   \n",
              "4     165.6573 - 169.5590  Ses01F_script01_1_F016     neu   \n",
              "...                   ...                     ...     ...   \n",
              "4933  236.5700 - 244.8300  Ses05M_script03_2_M041     ang   \n",
              "4934  244.8400 - 246.5800  Ses05M_script03_2_M042     ang   \n",
              "4935  246.5900 - 248.8300  Ses05M_script03_2_M043     ang   \n",
              "4936  255.8600 - 260.3300  Ses05M_script03_2_M044     ang   \n",
              "4937  260.3400 - 266.3500  Ses05M_script03_2_M045     ang   \n",
              "\n",
              "                      scores  \\\n",
              "0     3.0000, 3.0000, 2.6667   \n",
              "1     2.0000, 1.6667, 2.0000   \n",
              "2     1.6667, 2.3333, 3.3333   \n",
              "3     2.6667, 3.6667, 3.6667   \n",
              "4     2.6667, 2.6667, 3.0000   \n",
              "...                      ...   \n",
              "4933  1.0000, 4.5000, 5.0000   \n",
              "4934  1.0000, 4.5000, 4.5000   \n",
              "4935  1.5000, 4.0000, 4.5000   \n",
              "4936  1.0000, 5.0000, 5.0000   \n",
              "4937  1.0000, 5.0000, 5.0000   \n",
              "\n",
              "                                                   text  \n",
              "0                                                 When?  \n",
              "1           He's dreaming of him again, walking around.  \n",
              "2     It's getting to be just like after he died.  W...  \n",
              "3                                                 What?  \n",
              "4                Well that's only your business, Chris.  \n",
              "...                                                 ...  \n",
              "4933  You are a vile tempered, wicked living, evil l...  \n",
              "4934                    Oh, you're not going like this.  \n",
              "4935                          [GARBAGE] No, you're not.  \n",
              "4936  oh! Marry you again? I wouldn't marry you agai...  \n",
              "4937  You're a wicked little vampire.  And I pray to...  \n",
              "\n",
              "[4938 rows x 5 columns]"
            ],
            "text/html": [
              "\n",
              "  <div id=\"df-28f21572-1e70-47fc-bf96-bd8b5c9d66b1\" class=\"colab-df-container\">\n",
              "    <div>\n",
              "<style scoped>\n",
              "    .dataframe tbody tr th:only-of-type {\n",
              "        vertical-align: middle;\n",
              "    }\n",
              "\n",
              "    .dataframe tbody tr th {\n",
              "        vertical-align: top;\n",
              "    }\n",
              "\n",
              "    .dataframe thead th {\n",
              "        text-align: right;\n",
              "    }\n",
              "</style>\n",
              "<table border=\"1\" class=\"dataframe\">\n",
              "  <thead>\n",
              "    <tr style=\"text-align: right;\">\n",
              "      <th></th>\n",
              "      <th>time</th>\n",
              "      <th>filename</th>\n",
              "      <th>emotion</th>\n",
              "      <th>scores</th>\n",
              "      <th>text</th>\n",
              "    </tr>\n",
              "  </thead>\n",
              "  <tbody>\n",
              "    <tr>\n",
              "      <th>0</th>\n",
              "      <td>22.3200 - 24.6667</td>\n",
              "      <td>Ses01F_script01_1_F003</td>\n",
              "      <td>neu</td>\n",
              "      <td>3.0000, 3.0000, 2.6667</td>\n",
              "      <td>When?</td>\n",
              "    </tr>\n",
              "    <tr>\n",
              "      <th>1</th>\n",
              "      <td>40.0200 - 44.9688</td>\n",
              "      <td>Ses01F_script01_1_F005</td>\n",
              "      <td>neu</td>\n",
              "      <td>2.0000, 1.6667, 2.0000</td>\n",
              "      <td>He's dreaming of him again, walking around.</td>\n",
              "    </tr>\n",
              "    <tr>\n",
              "      <th>2</th>\n",
              "      <td>46.9500 - 52.3200</td>\n",
              "      <td>Ses01F_script01_1_F006</td>\n",
              "      <td>neu</td>\n",
              "      <td>1.6667, 2.3333, 3.3333</td>\n",
              "      <td>It's getting to be just like after he died.  W...</td>\n",
              "    </tr>\n",
              "    <tr>\n",
              "      <th>3</th>\n",
              "      <td>58.9500 - 60.8800</td>\n",
              "      <td>Ses01F_script01_1_F007</td>\n",
              "      <td>neu</td>\n",
              "      <td>2.6667, 3.6667, 3.6667</td>\n",
              "      <td>What?</td>\n",
              "    </tr>\n",
              "    <tr>\n",
              "      <th>4</th>\n",
              "      <td>165.6573 - 169.5590</td>\n",
              "      <td>Ses01F_script01_1_F016</td>\n",
              "      <td>neu</td>\n",
              "      <td>2.6667, 2.6667, 3.0000</td>\n",
              "      <td>Well that's only your business, Chris.</td>\n",
              "    </tr>\n",
              "    <tr>\n",
              "      <th>...</th>\n",
              "      <td>...</td>\n",
              "      <td>...</td>\n",
              "      <td>...</td>\n",
              "      <td>...</td>\n",
              "      <td>...</td>\n",
              "    </tr>\n",
              "    <tr>\n",
              "      <th>4933</th>\n",
              "      <td>236.5700 - 244.8300</td>\n",
              "      <td>Ses05M_script03_2_M041</td>\n",
              "      <td>ang</td>\n",
              "      <td>1.0000, 4.5000, 5.0000</td>\n",
              "      <td>You are a vile tempered, wicked living, evil l...</td>\n",
              "    </tr>\n",
              "    <tr>\n",
              "      <th>4934</th>\n",
              "      <td>244.8400 - 246.5800</td>\n",
              "      <td>Ses05M_script03_2_M042</td>\n",
              "      <td>ang</td>\n",
              "      <td>1.0000, 4.5000, 4.5000</td>\n",
              "      <td>Oh, you're not going like this.</td>\n",
              "    </tr>\n",
              "    <tr>\n",
              "      <th>4935</th>\n",
              "      <td>246.5900 - 248.8300</td>\n",
              "      <td>Ses05M_script03_2_M043</td>\n",
              "      <td>ang</td>\n",
              "      <td>1.5000, 4.0000, 4.5000</td>\n",
              "      <td>[GARBAGE] No, you're not.</td>\n",
              "    </tr>\n",
              "    <tr>\n",
              "      <th>4936</th>\n",
              "      <td>255.8600 - 260.3300</td>\n",
              "      <td>Ses05M_script03_2_M044</td>\n",
              "      <td>ang</td>\n",
              "      <td>1.0000, 5.0000, 5.0000</td>\n",
              "      <td>oh! Marry you again? I wouldn't marry you agai...</td>\n",
              "    </tr>\n",
              "    <tr>\n",
              "      <th>4937</th>\n",
              "      <td>260.3400 - 266.3500</td>\n",
              "      <td>Ses05M_script03_2_M045</td>\n",
              "      <td>ang</td>\n",
              "      <td>1.0000, 5.0000, 5.0000</td>\n",
              "      <td>You're a wicked little vampire.  And I pray to...</td>\n",
              "    </tr>\n",
              "  </tbody>\n",
              "</table>\n",
              "<p>4938 rows × 5 columns</p>\n",
              "</div>\n",
              "    <div class=\"colab-df-buttons\">\n",
              "\n",
              "  <div class=\"colab-df-container\">\n",
              "    <button class=\"colab-df-convert\" onclick=\"convertToInteractive('df-28f21572-1e70-47fc-bf96-bd8b5c9d66b1')\"\n",
              "            title=\"Convert this dataframe to an interactive table.\"\n",
              "            style=\"display:none;\">\n",
              "\n",
              "  <svg xmlns=\"http://www.w3.org/2000/svg\" height=\"24px\" viewBox=\"0 -960 960 960\">\n",
              "    <path d=\"M120-120v-720h720v720H120Zm60-500h600v-160H180v160Zm220 220h160v-160H400v160Zm0 220h160v-160H400v160ZM180-400h160v-160H180v160Zm440 0h160v-160H620v160ZM180-180h160v-160H180v160Zm440 0h160v-160H620v160Z\"/>\n",
              "  </svg>\n",
              "    </button>\n",
              "\n",
              "  <style>\n",
              "    .colab-df-container {\n",
              "      display:flex;\n",
              "      gap: 12px;\n",
              "    }\n",
              "\n",
              "    .colab-df-convert {\n",
              "      background-color: #E8F0FE;\n",
              "      border: none;\n",
              "      border-radius: 50%;\n",
              "      cursor: pointer;\n",
              "      display: none;\n",
              "      fill: #1967D2;\n",
              "      height: 32px;\n",
              "      padding: 0 0 0 0;\n",
              "      width: 32px;\n",
              "    }\n",
              "\n",
              "    .colab-df-convert:hover {\n",
              "      background-color: #E2EBFA;\n",
              "      box-shadow: 0px 1px 2px rgba(60, 64, 67, 0.3), 0px 1px 3px 1px rgba(60, 64, 67, 0.15);\n",
              "      fill: #174EA6;\n",
              "    }\n",
              "\n",
              "    .colab-df-buttons div {\n",
              "      margin-bottom: 4px;\n",
              "    }\n",
              "\n",
              "    [theme=dark] .colab-df-convert {\n",
              "      background-color: #3B4455;\n",
              "      fill: #D2E3FC;\n",
              "    }\n",
              "\n",
              "    [theme=dark] .colab-df-convert:hover {\n",
              "      background-color: #434B5C;\n",
              "      box-shadow: 0px 1px 3px 1px rgba(0, 0, 0, 0.15);\n",
              "      filter: drop-shadow(0px 1px 2px rgba(0, 0, 0, 0.3));\n",
              "      fill: #FFFFFF;\n",
              "    }\n",
              "  </style>\n",
              "\n",
              "    <script>\n",
              "      const buttonEl =\n",
              "        document.querySelector('#df-28f21572-1e70-47fc-bf96-bd8b5c9d66b1 button.colab-df-convert');\n",
              "      buttonEl.style.display =\n",
              "        google.colab.kernel.accessAllowed ? 'block' : 'none';\n",
              "\n",
              "      async function convertToInteractive(key) {\n",
              "        const element = document.querySelector('#df-28f21572-1e70-47fc-bf96-bd8b5c9d66b1');\n",
              "        const dataTable =\n",
              "          await google.colab.kernel.invokeFunction('convertToInteractive',\n",
              "                                                    [key], {});\n",
              "        if (!dataTable) return;\n",
              "\n",
              "        const docLinkHtml = 'Like what you see? Visit the ' +\n",
              "          '<a target=\"_blank\" href=https://colab.research.google.com/notebooks/data_table.ipynb>data table notebook</a>'\n",
              "          + ' to learn more about interactive tables.';\n",
              "        element.innerHTML = '';\n",
              "        dataTable['output_type'] = 'display_data';\n",
              "        await google.colab.output.renderOutput(dataTable, element);\n",
              "        const docLink = document.createElement('div');\n",
              "        docLink.innerHTML = docLinkHtml;\n",
              "        element.appendChild(docLink);\n",
              "      }\n",
              "    </script>\n",
              "  </div>\n",
              "\n",
              "\n",
              "<div id=\"df-6308fcee-b48b-47fb-aad4-b99db08c0ad6\">\n",
              "  <button class=\"colab-df-quickchart\" onclick=\"quickchart('df-6308fcee-b48b-47fb-aad4-b99db08c0ad6')\"\n",
              "            title=\"Suggest charts\"\n",
              "            style=\"display:none;\">\n",
              "\n",
              "<svg xmlns=\"http://www.w3.org/2000/svg\" height=\"24px\"viewBox=\"0 0 24 24\"\n",
              "     width=\"24px\">\n",
              "    <g>\n",
              "        <path d=\"M19 3H5c-1.1 0-2 .9-2 2v14c0 1.1.9 2 2 2h14c1.1 0 2-.9 2-2V5c0-1.1-.9-2-2-2zM9 17H7v-7h2v7zm4 0h-2V7h2v10zm4 0h-2v-4h2v4z\"/>\n",
              "    </g>\n",
              "</svg>\n",
              "  </button>\n",
              "\n",
              "<style>\n",
              "  .colab-df-quickchart {\n",
              "      --bg-color: #E8F0FE;\n",
              "      --fill-color: #1967D2;\n",
              "      --hover-bg-color: #E2EBFA;\n",
              "      --hover-fill-color: #174EA6;\n",
              "      --disabled-fill-color: #AAA;\n",
              "      --disabled-bg-color: #DDD;\n",
              "  }\n",
              "\n",
              "  [theme=dark] .colab-df-quickchart {\n",
              "      --bg-color: #3B4455;\n",
              "      --fill-color: #D2E3FC;\n",
              "      --hover-bg-color: #434B5C;\n",
              "      --hover-fill-color: #FFFFFF;\n",
              "      --disabled-bg-color: #3B4455;\n",
              "      --disabled-fill-color: #666;\n",
              "  }\n",
              "\n",
              "  .colab-df-quickchart {\n",
              "    background-color: var(--bg-color);\n",
              "    border: none;\n",
              "    border-radius: 50%;\n",
              "    cursor: pointer;\n",
              "    display: none;\n",
              "    fill: var(--fill-color);\n",
              "    height: 32px;\n",
              "    padding: 0;\n",
              "    width: 32px;\n",
              "  }\n",
              "\n",
              "  .colab-df-quickchart:hover {\n",
              "    background-color: var(--hover-bg-color);\n",
              "    box-shadow: 0 1px 2px rgba(60, 64, 67, 0.3), 0 1px 3px 1px rgba(60, 64, 67, 0.15);\n",
              "    fill: var(--button-hover-fill-color);\n",
              "  }\n",
              "\n",
              "  .colab-df-quickchart-complete:disabled,\n",
              "  .colab-df-quickchart-complete:disabled:hover {\n",
              "    background-color: var(--disabled-bg-color);\n",
              "    fill: var(--disabled-fill-color);\n",
              "    box-shadow: none;\n",
              "  }\n",
              "\n",
              "  .colab-df-spinner {\n",
              "    border: 2px solid var(--fill-color);\n",
              "    border-color: transparent;\n",
              "    border-bottom-color: var(--fill-color);\n",
              "    animation:\n",
              "      spin 1s steps(1) infinite;\n",
              "  }\n",
              "\n",
              "  @keyframes spin {\n",
              "    0% {\n",
              "      border-color: transparent;\n",
              "      border-bottom-color: var(--fill-color);\n",
              "      border-left-color: var(--fill-color);\n",
              "    }\n",
              "    20% {\n",
              "      border-color: transparent;\n",
              "      border-left-color: var(--fill-color);\n",
              "      border-top-color: var(--fill-color);\n",
              "    }\n",
              "    30% {\n",
              "      border-color: transparent;\n",
              "      border-left-color: var(--fill-color);\n",
              "      border-top-color: var(--fill-color);\n",
              "      border-right-color: var(--fill-color);\n",
              "    }\n",
              "    40% {\n",
              "      border-color: transparent;\n",
              "      border-right-color: var(--fill-color);\n",
              "      border-top-color: var(--fill-color);\n",
              "    }\n",
              "    60% {\n",
              "      border-color: transparent;\n",
              "      border-right-color: var(--fill-color);\n",
              "    }\n",
              "    80% {\n",
              "      border-color: transparent;\n",
              "      border-right-color: var(--fill-color);\n",
              "      border-bottom-color: var(--fill-color);\n",
              "    }\n",
              "    90% {\n",
              "      border-color: transparent;\n",
              "      border-bottom-color: var(--fill-color);\n",
              "    }\n",
              "  }\n",
              "</style>\n",
              "\n",
              "  <script>\n",
              "    async function quickchart(key) {\n",
              "      const quickchartButtonEl =\n",
              "        document.querySelector('#' + key + ' button');\n",
              "      quickchartButtonEl.disabled = true;  // To prevent multiple clicks.\n",
              "      quickchartButtonEl.classList.add('colab-df-spinner');\n",
              "      try {\n",
              "        const charts = await google.colab.kernel.invokeFunction(\n",
              "            'suggestCharts', [key], {});\n",
              "      } catch (error) {\n",
              "        console.error('Error during call to suggestCharts:', error);\n",
              "      }\n",
              "      quickchartButtonEl.classList.remove('colab-df-spinner');\n",
              "      quickchartButtonEl.classList.add('colab-df-quickchart-complete');\n",
              "    }\n",
              "    (() => {\n",
              "      let quickchartButtonEl =\n",
              "        document.querySelector('#df-6308fcee-b48b-47fb-aad4-b99db08c0ad6 button');\n",
              "      quickchartButtonEl.style.display =\n",
              "        google.colab.kernel.accessAllowed ? 'block' : 'none';\n",
              "    })();\n",
              "  </script>\n",
              "</div>\n",
              "\n",
              "  <div id=\"id_45ccc6da-9812-4d60-9970-42165e8414af\">\n",
              "    <style>\n",
              "      .colab-df-generate {\n",
              "        background-color: #E8F0FE;\n",
              "        border: none;\n",
              "        border-radius: 50%;\n",
              "        cursor: pointer;\n",
              "        display: none;\n",
              "        fill: #1967D2;\n",
              "        height: 32px;\n",
              "        padding: 0 0 0 0;\n",
              "        width: 32px;\n",
              "      }\n",
              "\n",
              "      .colab-df-generate:hover {\n",
              "        background-color: #E2EBFA;\n",
              "        box-shadow: 0px 1px 2px rgba(60, 64, 67, 0.3), 0px 1px 3px 1px rgba(60, 64, 67, 0.15);\n",
              "        fill: #174EA6;\n",
              "      }\n",
              "\n",
              "      [theme=dark] .colab-df-generate {\n",
              "        background-color: #3B4455;\n",
              "        fill: #D2E3FC;\n",
              "      }\n",
              "\n",
              "      [theme=dark] .colab-df-generate:hover {\n",
              "        background-color: #434B5C;\n",
              "        box-shadow: 0px 1px 3px 1px rgba(0, 0, 0, 0.15);\n",
              "        filter: drop-shadow(0px 1px 2px rgba(0, 0, 0, 0.3));\n",
              "        fill: #FFFFFF;\n",
              "      }\n",
              "    </style>\n",
              "    <button class=\"colab-df-generate\" onclick=\"generateWithVariable('df_dropped')\"\n",
              "            title=\"Generate code using this dataframe.\"\n",
              "            style=\"display:none;\">\n",
              "\n",
              "  <svg xmlns=\"http://www.w3.org/2000/svg\" height=\"24px\"viewBox=\"0 0 24 24\"\n",
              "       width=\"24px\">\n",
              "    <path d=\"M7,19H8.4L18.45,9,17,7.55,7,17.6ZM5,21V16.75L18.45,3.32a2,2,0,0,1,2.83,0l1.4,1.43a1.91,1.91,0,0,1,.58,1.4,1.91,1.91,0,0,1-.58,1.4L9.25,21ZM18.45,9,17,7.55Zm-12,3A5.31,5.31,0,0,0,4.9,8.1,5.31,5.31,0,0,0,1,6.5,5.31,5.31,0,0,0,4.9,4.9,5.31,5.31,0,0,0,6.5,1,5.31,5.31,0,0,0,8.1,4.9,5.31,5.31,0,0,0,12,6.5,5.46,5.46,0,0,0,6.5,12Z\"/>\n",
              "  </svg>\n",
              "    </button>\n",
              "    <script>\n",
              "      (() => {\n",
              "      const buttonEl =\n",
              "        document.querySelector('#id_45ccc6da-9812-4d60-9970-42165e8414af button.colab-df-generate');\n",
              "      buttonEl.style.display =\n",
              "        google.colab.kernel.accessAllowed ? 'block' : 'none';\n",
              "\n",
              "      buttonEl.onclick = () => {\n",
              "        google.colab.notebook.generateWithVariable('df_dropped');\n",
              "      }\n",
              "      })();\n",
              "    </script>\n",
              "  </div>\n",
              "\n",
              "    </div>\n",
              "  </div>\n"
            ],
            "application/vnd.google.colaboratory.intrinsic+json": {
              "type": "dataframe",
              "variable_name": "df_dropped",
              "summary": "{\n  \"name\": \"df_dropped\",\n  \"rows\": 4938,\n  \"fields\": [\n    {\n      \"column\": \"time\",\n      \"properties\": {\n        \"dtype\": \"string\",\n        \"num_unique_values\": 4938,\n        \"samples\": [\n          \"179.1172 - 182.7663\",\n          \"20.8300 - 23.4200\",\n          \"155.6000 - 160.3600\"\n        ],\n        \"semantic_type\": \"\",\n        \"description\": \"\"\n      }\n    },\n    {\n      \"column\": \"filename\",\n      \"properties\": {\n        \"dtype\": \"string\",\n        \"num_unique_values\": 4938,\n        \"samples\": [\n          \"Ses03F_impro06_F027\",\n          \"Ses05M_impro07_F007\",\n          \"Ses01F_impro05_F021\"\n        ],\n        \"semantic_type\": \"\",\n        \"description\": \"\"\n      }\n    },\n    {\n      \"column\": \"emotion\",\n      \"properties\": {\n        \"dtype\": \"category\",\n        \"num_unique_values\": 5,\n        \"samples\": [\n          \"ang\",\n          \"exc\",\n          \"sad\"\n        ],\n        \"semantic_type\": \"\",\n        \"description\": \"\"\n      }\n    },\n    {\n      \"column\": \"scores\",\n      \"properties\": {\n        \"dtype\": \"category\",\n        \"num_unique_values\": 626,\n        \"samples\": [\n          \"4.5000, 3.5000, 4.5000\",\n          \"2.5000, 1.5000, 3.0000\",\n          \"4.5000, 3.0000, 3.0000\"\n        ],\n        \"semantic_type\": \"\",\n        \"description\": \"\"\n      }\n    },\n    {\n      \"column\": \"text\",\n      \"properties\": {\n        \"dtype\": \"string\",\n        \"num_unique_values\": 4197,\n        \"samples\": [\n          \"I don't want money, I want my clothes.\",\n          \"You let him kiss you. You said so.\",\n          \"We had a bottle of champagne but no glasses and you ask me to dance so we took off our shoes and while we were dancing, you said the most intimate things right in my ears so I could feel them as much as hear them.\"\n        ],\n        \"semantic_type\": \"\",\n        \"description\": \"\"\n      }\n    }\n  ]\n}"
            }
          },
          "metadata": {},
          "execution_count": 16
        }
      ]
    },
    {
      "cell_type": "code",
      "source": [
        "count_dict = df_dropped.copy()\n",
        "count_dict = count_dict.drop(columns=['time', 'filename','scores','text'])"
      ],
      "metadata": {
        "id": "7sSzFyI82LWT"
      },
      "execution_count": null,
      "outputs": []
    },
    {
      "cell_type": "code",
      "source": [
        "temp = count_dict.copy()"
      ],
      "metadata": {
        "id": "N2rpeWFMnu5G"
      },
      "execution_count": null,
      "outputs": []
    },
    {
      "cell_type": "code",
      "source": [
        "neu_samples = temp[temp['emotion'] == 'hap']\n",
        "\n",
        "# Randomly select 2 samples to remove (in your actual case, use n=2500)\n",
        "samples_to_remove = neu_samples.sample(n=90, random_state=42)\n",
        "\n",
        "# Remove these samples from the DataFrame\n",
        "df =temp.drop(samples_to_remove.index)"
      ],
      "metadata": {
        "id": "layhHjzQ58Bp"
      },
      "execution_count": null,
      "outputs": []
    },
    {
      "cell_type": "code",
      "source": [
        "len(count_dict[count_dict['emotion']=='hap'])"
      ],
      "metadata": {
        "colab": {
          "base_uri": "https://localhost:8080/"
        },
        "id": "wxpyMXh56OOY",
        "outputId": "13c8edd6-ff6d-4d3d-a56e-0a2f56471561"
      },
      "execution_count": null,
      "outputs": [
        {
          "output_type": "execute_result",
          "data": {
            "text/plain": [
              "1100"
            ]
          },
          "metadata": {},
          "execution_count": 203
        }
      ]
    },
    {
      "cell_type": "markdown",
      "source": [
        "Final Count plot of the Dataset"
      ],
      "metadata": {
        "id": "h0Cr173TNSzE"
      }
    },
    {
      "cell_type": "code",
      "source": [
        "plt.figure(figsize=(10, 6))\n",
        "sns.countplot(data=df, x='emotion')\n",
        "\n",
        "# Customize the plot (optional)\n",
        "plt.title('Count Plot of Emotions')\n",
        "plt.xlabel('emotion')\n",
        "plt.ylabel('Count')\n",
        "plt.show()\n"
      ],
      "metadata": {
        "colab": {
          "base_uri": "https://localhost:8080/",
          "height": 564
        },
        "id": "uVjFkvXC3Mr5",
        "outputId": "fddeb294-04b1-4140-a084-90e1fe531b41"
      },
      "execution_count": null,
      "outputs": [
        {
          "output_type": "display_data",
          "data": {
            "text/plain": [
              "<Figure size 1000x600 with 1 Axes>"
            ],
            "image/png": "[encoded data removed]"
          },
          "metadata": {}
        }
      ]
    },
    {
      "cell_type": "code",
      "source": [
        "path = '/content/drive/MyDrive/df_dropped_augment.pickle'\n",
        "\n",
        "\n",
        "# Open the file in binary write mode\n",
        "with open(path, 'wb') as f:\n",
        "    # Dump the data into the file\n",
        "    pickle.dump(df_dropped, f)"
      ],
      "metadata": {
        "id": "8kuGd6OJ5Np6"
      },
      "execution_count": null,
      "outputs": []
    },
    {
      "cell_type": "code",
      "source": [
        "!pip install nlpaug\n",
        "\n"
      ],
      "metadata": {
        "id": "_w8g6XkaQXX_"
      },
      "execution_count": null,
      "outputs": []
    },
    {
      "cell_type": "code",
      "source": [
        "!pip install googletrans==3.1.0a0"
      ],
      "metadata": {
        "id": "Sxj-6bhqkLYs"
      },
      "execution_count": null,
      "outputs": []
    },
    {
      "cell_type": "code",
      "source": [
        "import random\n",
        "import nltk\n",
        "from nltk.corpus import wordnet\n",
        "nltk.download('wordnet')"
      ],
      "metadata": {
        "id": "VqWkFoaSrArJ",
        "colab": {
          "base_uri": "https://localhost:8080/"
        },
        "outputId": "be9a7d40-7f32-462d-cabc-e61e28b3ddb3"
      },
      "execution_count": null,
      "outputs": [
        {
          "output_type": "stream",
          "name": "stderr",
          "text": [
            "[nltk_data] Downloading package wordnet to /root/nltk_data...\n"
          ]
        },
        {
          "output_type": "execute_result",
          "data": {
            "text/plain": [
              "True"
            ]
          },
          "metadata": {},
          "execution_count": 26
        }
      ]
    },
    {
      "cell_type": "markdown",
      "source": [
        "Text Augmentation"
      ],
      "metadata": {
        "id": "m1fOe8xfN_SP"
      }
    },
    {
      "cell_type": "code",
      "source": [
        "#Text Augmentation\n",
        "def get_synonyms(word):\n",
        "    synonyms = set()\n",
        "    for syn in wordnet.synsets(word):\n",
        "        for lemma in syn.lemmas():\n",
        "            synonyms.add(lemma.name())\n",
        "    return list(synonyms)\n",
        "\n",
        "def synonym_replacement(text, n):\n",
        "    words = text.split()\n",
        "    new_words = words.copy()\n",
        "    random_word_list = list(set([word for word in words if wordnet.synsets(word)]))\n",
        "    random.shuffle(random_word_list)\n",
        "    num_replaced = 0\n",
        "    for random_word in random_word_list:\n",
        "        synonyms = get_synonyms(random_word)\n",
        "        if len(synonyms) >= 1:\n",
        "            synonym = random.choice(synonyms)\n",
        "            new_words = [synonym if word == random_word else word for word in new_words]\n",
        "            num_replaced += 1\n",
        "        if num_replaced >= n:\n",
        "            break\n",
        "    return ' '.join(new_words)\n",
        "\n",
        "def random_insertion(text, n):\n",
        "    words = text.split()\n",
        "    for _ in range(n):\n",
        "        new_word = random.choice(words)\n",
        "        synonyms = get_synonyms(new_word)\n",
        "        # Check if synonyms exist before trying to choose from them\n",
        "        if synonyms:\n",
        "            synonym = random.choice(synonyms)\n",
        "            random_idx = random.randint(0, len(words)-1)\n",
        "            words.insert(random_idx, synonym)\n",
        "    return ' '.join(words)\n",
        "\n",
        "def random_deletion(text, p):\n",
        "    words = text.split()\n",
        "    if len(words) == 1:\n",
        "        return text\n",
        "    new_words = []\n",
        "    for word in words:\n",
        "        r = random.uniform(0, 1)\n",
        "        if r > p:\n",
        "            new_words.append(word)\n",
        "    if len(new_words) == 0:\n",
        "        return random.choice(words)\n",
        "    else:\n",
        "        return ' '.join(new_words)\n",
        "\n",
        "def random_swap(text, n):\n",
        "    words = text.split()\n",
        "    if len(words) >= 2:\n",
        "      for _ in range(n):\n",
        "        idx1, idx2 = random.sample(range(len(words)), 2)\n",
        "        words[idx1], words[idx2] = words[idx2], words[idx1]\n",
        "    return ' '.join(words)\n",
        "\n",
        "\n",
        "\n",
        "def random_augmentation(text):\n",
        "    augmentation_functions = [\n",
        "        lambda x: synonym_replacement(x, 2),\n",
        "        lambda x: random_insertion(x, 2),\n",
        "        lambda x: random_deletion(x, 0.3),\n",
        "        lambda x: random_swap(x, 2),\n",
        "\n",
        "    ]\n",
        "    aug_func = random.choice(augmentation_functions)\n",
        "    return aug_func(text)\n",
        "\n",
        "text =df_dropped['text'][99]\n",
        "print(text)\n",
        "augmented_text = random_augmentation(text)\n",
        "print(augmented_text)\n",
        "\n"
      ],
      "metadata": {
        "colab": {
          "base_uri": "https://localhost:8080/"
        },
        "id": "FEhq4575PgfL",
        "outputId": "50115492-7ab5-4a3a-83f8-5b880341732e"
      },
      "execution_count": null,
      "outputs": [
        {
          "output_type": "stream",
          "name": "stdout",
          "text": [
            "A rapper party ho. Yeah. Okay.\n",
            "rapper party Yeah.\n"
          ]
        }
      ]
    },
    {
      "cell_type": "markdown",
      "source": [
        "Audio Augmentation"
      ],
      "metadata": {
        "id": "zqPWbceRORaV"
      }
    },
    {
      "cell_type": "code",
      "source": [
        "import random\n",
        "\n",
        "def apply_random_augmentation(y,sr):\n",
        "\n",
        "\n",
        "    augmentations = [\n",
        "        time_stretch,\n",
        "        pitch_shift,\n",
        "        add_noise,\n",
        "        time_shift,\n",
        "        volume_adjust,\n",
        "    ]\n",
        "\n",
        "    augmentation = random.choice(augmentations)\n",
        "    y_aug = augmentation(y, sr)\n",
        "\n",
        "    return y_aug\n",
        "\n",
        "def time_stretch(y, sr, rate=None):\n",
        "    if rate is None:\n",
        "        rate = np.random.uniform(0.8, 1.2)\n",
        "    return librosa.effects.time_stretch(y, rate=rate)\n",
        "\n",
        "def pitch_shift(y, sr, n_steps=None):\n",
        "    if n_steps is None:\n",
        "        n_steps = np.random.randint(-5, 5)\n",
        "    return librosa.effects.pitch_shift(y, sr=sr, n_steps=n_steps)\n",
        "\n",
        "def add_noise(y, sr, noise_level=None):\n",
        "    if noise_level is None:\n",
        "        noise_level = np.random.uniform(0.001, 0.005)\n",
        "    noise = np.random.randn(len(y))\n",
        "    return y + noise_level * noise\n",
        "\n",
        "def time_shift(y, sr, shift_max=None):\n",
        "    if shift_max is None:\n",
        "        shift_max = sr // 2  # Max shift by 0.5 seconds\n",
        "    shift = np.random.randint(-shift_max, shift_max)\n",
        "    return np.roll(y, shift)\n",
        "\n",
        "def volume_adjust(y, sr, gain=None):\n",
        "    if gain is None:\n",
        "        gain = np.random.uniform(0.5, 1.5)\n",
        "    return y * gain\n",
        "\n",
        "\n",
        "\n"
      ],
      "metadata": {
        "id": "EE6V3XMSPnFY"
      },
      "execution_count": null,
      "outputs": []
    },
    {
      "cell_type": "markdown",
      "source": [
        "**Extracting MFCCS,Transcriptions and labels for each session**\n"
      ],
      "metadata": {
        "id": "MppIAWBI69HB"
      }
    },
    {
      "cell_type": "code",
      "source": [
        "def extract_mfccs_text_emotion(path):\n",
        "  file_name = path.split('/')[-1]\n",
        "  file_name= file_name.split('.')[0]\n",
        "  target_sr = 16000\n",
        "  top_db=20\n",
        "  n_mfcc=13\n",
        "  n_fft=2048\n",
        "  hop_length=512\n",
        "  #emo = ['neu','hap','sad','ang','exc']\n",
        "  emo = df_dropped[df_dropped['filename'] == file_name].emotion\n",
        "  #emo = emo.iloc[0]\n",
        "  if(len(emo)>0):\n",
        "    #loading audio\n",
        "    audio , sr = librosa.load(path, sr = None)\n",
        "\n",
        "    #resampling audio\n",
        "    resampled_audio = librosa.resample(audio,orig_sr = sr,target_sr = target_sr)\n",
        "\n",
        "    #extracting non silent parts\n",
        "    non_silent_intervals = librosa.effects.split(resampled_audio, top_db=top_db)\n",
        "\n",
        "    # Concatenate non-silent parts\n",
        "    y_non_silent = np.concatenate([resampled_audio[start:end] for start, end in non_silent_intervals])\n",
        "\n",
        "    # Extract MFCC features\n",
        "    mfccs = librosa.feature.mfcc(y=y_non_silent, sr=target_sr, n_mfcc=n_mfcc, n_fft=n_fft, hop_length=hop_length)\n",
        "    print('mfccs')\n",
        "    mfccs_ses1.append(mfccs)\n",
        "\n",
        "    x = df_dropped[df_dropped['filename'] == file_name].emotion\n",
        "    y = df_dropped[df_dropped['filename'] == file_name].text\n",
        "\n",
        "\n",
        "    txt = y.iloc[0]\n",
        "\n",
        "\n",
        "    e = x.iloc[0]\n",
        "\n",
        "    print(e)\n",
        "    emotion_ses1.append(e)\n",
        "    print(txt)\n",
        "    text_ses1.append(txt)\n",
        "    print(\"Complete : \",file_name)\n",
        "\n",
        "\n",
        "\n"
      ],
      "metadata": {
        "id": "k832WepxPLZp"
      },
      "execution_count": null,
      "outputs": []
    },
    {
      "cell_type": "markdown",
      "source": [
        "Data augmentation for 'hap' class . This function is commented out,we will use at the time augmentation."
      ],
      "metadata": {
        "id": "imTrv96YRUtH"
      }
    },
    {
      "cell_type": "code",
      "source": [
        "# def extract_mfccs_text_emotion(path):\n",
        "#   file_name = path.split('/')[-1]\n",
        "#   file_name= file_name.split('.')[0]\n",
        "#   target_sr = 16000\n",
        "#   top_db=20\n",
        "#   n_mfcc=13\n",
        "#   n_fft=2048\n",
        "#   hop_length=512\n",
        "#   #emo = ['neu','hap','sad','ang','exc']\n",
        "#   emo = hap_samples[hap_samples['filename'] == file_name].emotion\n",
        "#   #emo = emo.iloc[0]\n",
        "#   if(len(emo)>0):\n",
        "#     audio , sr = librosa.load(path, sr = None)\n",
        "#     resampled_audio = librosa.resample(audio,orig_sr = sr,target_sr = target_sr)\n",
        "\n",
        "#     non_silent_intervals = librosa.effects.split(resampled_audio, top_db=top_db)\n",
        "\n",
        "#     # Concatenate non-silent parts\n",
        "#     y_non_silent = np.concatenate([resampled_audio[start:end] for start, end in non_silent_intervals])\n",
        "\n",
        "#     y_aug = apply_random_augmentation(y_non_silent,target_sr)\n",
        "#     # Extract MFCC features\n",
        "#     mfccs = librosa.feature.mfcc(y=y_aug, sr=target_sr, n_mfcc=n_mfcc, n_fft=n_fft, hop_length=hop_length)\n",
        "#     print('mfccs')\n",
        "#     mfccs_ses1.append(mfccs)#CHANGE HERE\n",
        "\n",
        "#     x = hap_samples[hap_samples['filename'] == file_name].emotion\n",
        "#     y = hap_samples[hap_samples['filename'] == file_name].text\n",
        "\n",
        "\n",
        "#     txt = y.iloc[0]\n",
        "#     augmented_text = random_augmentation(txt)\n",
        "\n",
        "#     e = x.iloc[0]\n",
        "#     new_emo = {'emotion': e}\n",
        "\n",
        "#    # Add new row using loc\n",
        "#     count_dict.loc[len(count_dict)] = new_emo\n",
        "\n",
        "#     print(e)\n",
        "#     emotion_ses1.append(e)#CHANGE HERE\n",
        "#     print(txt)\n",
        "#     text_ses1.append(augmented_text)#CHANGE HERE\n",
        "#     print(\"Complete : \",file_name)\n",
        "\n",
        "\n",
        "\n"
      ],
      "metadata": {
        "id": "l8u5a6ThRTOe"
      },
      "execution_count": null,
      "outputs": []
    },
    {
      "cell_type": "code",
      "source": [
        "mfccs_ses1=[]#CHANGE HERE\n",
        "emotion_ses1=[]#CHANGE HERE\n",
        "text_ses1 = []#CHANGE HERE"
      ],
      "metadata": {
        "id": "MfOhMwB4f_wu"
      },
      "execution_count": null,
      "outputs": []
    },
    {
      "cell_type": "code",
      "source": [
        "path = '/content/drive/MyDrive/IEMOCAP_full_release/Session5/sentences/wav'\n"
      ],
      "metadata": {
        "id": "IWwUUD36QYZN"
      },
      "execution_count": null,
      "outputs": []
    },
    {
      "cell_type": "markdown",
      "source": [
        "File Crawler"
      ],
      "metadata": {
        "id": "zF0Ds0e4QQh3"
      }
    },
    {
      "cell_type": "code",
      "source": [
        "import os\n",
        "audio_paths = []\n",
        "for root , dirs ,  files in os.walk(path):\n",
        "\n",
        "  for filename in files:\n",
        "\n",
        "    file_path = os.path.join(root,filename)\n",
        "\n",
        "    audio_paths.append(file_path)\n",
        "\n",
        "print(len(audio_paths))"
      ],
      "metadata": {
        "colab": {
          "base_uri": "https://localhost:8080/"
        },
        "id": "atpCLFQ7AylU",
        "outputId": "50de8e49-b626-4b43-8aef-e7505c8d25de"
      },
      "execution_count": null,
      "outputs": [
        {
          "output_type": "stream",
          "name": "stdout",
          "text": [
            "2172\n"
          ]
        }
      ]
    },
    {
      "cell_type": "code",
      "source": [
        "for path in audio_paths :\n",
        "  extract_mfccs_text_emotion(path)"
      ],
      "metadata": {
        "id": "14L-y8czQob6",
        "colab": {
          "base_uri": "https://localhost:8080/"
        },
        "outputId": "53595412-ded6-489d-a49a-d3a6e81078f8"
      },
      "execution_count": null,
      "outputs": [
        {
          "output_type": "stream",
          "name": "stdout",
          "text": [
            "mfccs\n",
            "hap\n",
            "Yes, I did notice that.  It does look really beautiful over the water.  Big old white moon.\n",
            "Complete :  Ses05M_script02_2_F034\n",
            "mfccs\n",
            "hap\n",
            "Or not.\n",
            "Complete :  Ses05M_script02_2_F038\n",
            "mfccs\n",
            "hap\n",
            "No.  I'm beginning to think you might be right. I think  this might be the spot after all.  Augie, I'm sorry.\n",
            "Complete :  Ses05M_script02_2_F037\n",
            "mfccs\n",
            "hap\n",
            "Actually, now that you mention it, no.  I don't.\n",
            "Complete :  Ses05M_script02_2_M034\n",
            "mfccs\n",
            "hap\n",
            "I don't know.  I think this is a pretty good spot.  I mean, look at the view of the moon from here.\n",
            "Complete :  Ses05M_script02_2_M035\n",
            "mfccs\n",
            "hap\n",
            "Oh, well look what we've got here.\n",
            "Complete :  Ses05M_script02_2_M036\n",
            "mfccs\n",
            "hap\n",
            "Well, it isn't champagne.\n",
            "Complete :  Ses05M_script02_2_M037\n",
            "mfccs\n",
            "hap\n",
            "Or not.\n",
            "Complete :  Ses05M_script02_2_M040\n",
            "mfccs\n",
            "hap\n",
            "It's all right.  It's a good thing.  It's lovely here.  The air is sweet.\n",
            "Complete :  Ses05M_script01_3_F001\n",
            "mfccs\n",
            "hap\n",
            "Oh, Chris I've been ready for a long time.\n",
            "Complete :  Ses05M_script01_3_F009\n",
            "mfccs\n",
            "hap\n",
            "Everyday since.\n",
            "Complete :  Ses05M_script01_3_F012\n",
            "mfccs\n",
            "hap\n",
            "[LAUGHTER] What will I do with a fortune?\n",
            "Complete :  Ses05M_script01_3_F027\n",
            "mfccs\n",
            "hap\n",
            "You felt something that far back?\n",
            "Complete :  Ses05M_script01_3_M013\n",
            "mfccs\n",
            "hap\n",
            "Annie I am going to make you a fortune.\n",
            "Complete :  Ses05M_script01_3_M042\n",
            "mfccs\n",
            "hap\n",
            "Oh, my God.  I can't even tell you how much of a relief that is.  I literally call and talk to five different people.  Like last week it went off and I spent an hour and a half on the phone with different people.  And I've been doing that like every, every other week for months now.\n",
            "Complete :  Ses05M_impro08_F022\n",
            "mfccs\n",
            "hap\n",
            "Yeah, accountability.  It's awesome.\n",
            "Complete :  Ses05M_impro08_F025\n",
            "mfccs\n",
            "hap\n",
            "Wow.  You know I was thinking about changing internet providers, but but that- that really is enough to change my mind.\n",
            "Complete :  Ses05M_impro08_F026\n",
            "mfccs\n",
            "hap\n",
            "No.  I'm just gonna go have a fantastic day now.\n",
            "Complete :  Ses05M_impro08_F027\n",
            "mfccs\n",
            "hap\n",
            "Okay.  Thanks.\n",
            "Complete :  Ses05M_impro08_F028\n",
            "mfccs\n",
            "hap\n",
            "Great.  Well, that makes me very happy.  That makes us all happy here at D.S.L. Extreme.  Is there anything else I can help you with?\n",
            "Complete :  Ses05M_impro08_M026\n",
            "mfccs\n",
            "hap\n",
            "All right.  Bye, bye.\n",
            "Complete :  Ses05M_impro08_M028\n",
            "mfccs\n",
            "hap\n",
            "What are you gonna study?\n",
            "Complete :  Ses05M_impro07_F004\n",
            "mfccs\n",
            "hap\n",
            "Really? Are you doing the M.F.A. program?\n",
            "Complete :  Ses05M_impro07_F005\n",
            "mfccs\n",
            "hap\n",
            "I heard it's so tough to get into.\n",
            "Complete :  Ses05M_impro07_F007\n",
            "mfccs\n",
            "hap\n",
            "That's awesome.\n",
            "Complete :  Ses05M_impro07_F008\n",
            "mfccs\n",
            "hap\n",
            "Um- I'm gonna be studying at U.S.C., too.\n",
            "Complete :  Ses05M_impro07_F013\n",
            "mfccs\n",
            "hap\n",
            "So when do you know, like, where you're gonna live? and-\n",
            "Complete :  Ses05M_impro07_F023\n",
            "mfccs\n",
            "hap\n",
            "There's actually, a friend of mine is um- moving out of her place and her place is amazing-- And it's really cheap.\n",
            "Complete :  Ses05M_impro07_F031\n",
            "mfccs\n",
            "hap\n",
            "You've got a lot- oh, awesome.\n",
            "Complete :  Ses05M_impro07_F035\n",
            "mfccs\n",
            "hap\n",
            "Oh cool.\n",
            "Complete :  Ses05M_impro07_F036\n",
            "mfccs\n",
            "hap\n",
            "good for you.\n",
            "Complete :  Ses05M_impro07_F039\n",
            "mfccs\n",
            "hap\n",
            "Yeah.  We'll have so much fun.\n",
            "Complete :  Ses05M_impro07_F045\n",
            "mfccs\n",
            "hap\n",
            "I worked really hard, I'll say, I worked really hard. You know, I I'm not bragging or anything like that. But-\n",
            "Complete :  Ses05M_impro07_M009\n",
            "mfccs\n",
            "hap\n",
            "And yeah, well, I mean, basically I just applied for any and every possible scholarship and grant that could come by, so I can go.\n",
            "Complete :  Ses05M_impro07_M039\n",
            "mfccs\n",
            "hap\n",
            "We'll have fun.\n",
            "Complete :  Ses05M_impro07_M046\n",
            "mfccs\n",
            "hap\n",
            "Oh, ridiculous. utterly ridiculous\n",
            "Complete :  Ses05F_script03_1_F031\n",
            "mfccs\n",
            "hap\n",
            "oh-\n",
            "Complete :  Ses05M_impro03_F005\n",
            "mfccs\n",
            "hap\n",
            "so cute.\n",
            "Complete :  Ses05M_impro03_F008\n",
            "mfccs\n",
            "hap\n",
            "No, it's totally original, though.\n",
            "Complete :  Ses05M_impro03_F009\n",
            "mfccs\n",
            "hap\n",
            "oh.\n",
            "Complete :  Ses05M_impro03_F010\n",
            "mfccs\n",
            "hap\n",
            "Oh, Then you had a whole weekend of camping?\n",
            "Complete :  Ses05M_impro03_F011\n",
            "mfccs\n",
            "hap\n",
            "Oh, right. sure [LAUGHTER]\n",
            "Complete :  Ses05M_impro03_F012\n",
            "mfccs\n",
            "hap\n",
            "So where are you going to have your wedding?\n",
            "Complete :  Ses05M_impro03_F013\n",
            "mfccs\n",
            "hap\n",
            "Where is she right now?\n",
            "Complete :  Ses05M_impro03_F016\n",
            "mfccs\n",
            "hap\n",
            "Yeah,I'll hang out with the both of you.\n",
            "Complete :  Ses05M_impro03_F017\n",
            "mfccs\n",
            "hap\n",
            "oh.\n",
            "Complete :  Ses05M_impro03_F020\n",
            "mfccs\n",
            "hap\n",
            "Are they so excited?\n",
            "Complete :  Ses05M_impro03_F022\n",
            "mfccs\n",
            "hap\n",
            "Oh, my gosh.  You told your parents already? and everything\n",
            "Complete :  Ses05M_impro03_F021\n",
            "mfccs\n",
            "hap\n",
            "That's incredible yeah ,Congratulations.\n",
            "Complete :  Ses05M_impro03_F031\n",
            "mfccs\n",
            "hap\n",
            "She--,well, she said yes, first of all, let me say that right off the bat. Well, I would like to assume, too.  But you never know these things, right?\n",
            "Complete :  Ses05M_impro03_M004\n",
            "mfccs\n",
            "hap\n",
            "You know- we did some- you know some rock climbing up the waterfalls and went up to this little pool that was up there.  And then, I- it's great. Um- You have to climb this little rock-\n",
            "Complete :  Ses05M_impro03_M007\n",
            "mfccs\n",
            "hap\n",
            "I did it up at Yosemite.  We went camping right like we usually do.  You know we go camping up there all the time.  But, um- the waterfalls had died down a little bit, you know. And so uh- we-I had her climb up.\n",
            "Complete :  Ses05M_impro03_M006\n",
            "mfccs\n",
            "hap\n",
            "and you can climb it and it's covered in algae you know. So, I wanted her to climb it to go take a picture, like, back in this little waterfall area, and she got back there and she took her picture. And then, I had her come back.  And I was going to do the same thing.\n",
            "Complete :  Ses05M_impro03_M008\n",
            "mfccs\n",
            "hap\n",
            "Well, instead I climb up on the rock and like I- I didn't do it -- well, I did it on purpose. I made it look like I accidentally did it.  I slipped down into this pool of water, right?  And she freaks out because I slide all the way down this rock.  And um-\n",
            "Complete :  Ses05M_impro03_M009\n",
            "mfccs\n",
            "hap\n",
            "And I pop up out of the water -- and I had planned it already, you know? I pop up out of the water and I [BREATHING] and I like, grab her hand, you know.  and that In my hand, I've got the ring.\n",
            "Complete :  Ses05M_impro03_M010\n",
            "mfccs\n",
            "hap\n",
            "And she's like- she feels it you know and she doesn't know what it is.  And she you know helps me get out and I won't let go of her hand.  And she's like, what are you doing?  I and said, You saved my life, now will you marry me?\n",
            "Complete :  Ses05M_impro03_M011\n",
            "mfccs\n",
            "hap\n",
            "It was a lot of fun- It was a lot of fun.  She's great.  And I'm so happy.\n",
            "Complete :  Ses05M_impro03_M015\n",
            "mfccs\n",
            "hap\n",
            "Yeah.  And she said yes.  And she cried, of course.\n",
            "Complete :  Ses05M_impro03_M013\n",
            "mfccs\n",
            "hap\n",
            "Wasn't that great? I didn't want it to be too hokey.but- but- She liked it.She liked it.\n",
            "Complete :  Ses05M_impro03_M012\n",
            "mfccs\n",
            "hap\n",
            "Yes.  We did that in the beginning, exactly.  So we had, so we just had, you know, good times the rest of the weekend, yeah.\n",
            "Complete :  Ses05M_impro03_M014\n",
            "mfccs\n",
            "hap\n",
            "We're going to do it back in the Midwest where her family all is.  They're all out there. you know so, Um  And so, just gonna have a small, small wedding. But, um- you know, of course, you're going to come, right?\n",
            "Complete :  Ses05M_impro03_M016\n",
            "mfccs\n",
            "hap\n",
            "Um- And she wants you to be in it, too.  She loves you so much. She thinks you're the sweetest.  Of course, you are.  You're You're my best friend so-\n",
            "Complete :  Ses05M_impro03_M018\n",
            "mfccs\n",
            "hap\n",
            "She's the one.\n",
            "Complete :  Ses05M_impro03_M023\n",
            "mfccs\n",
            "hap\n",
            "Of course.  I told them right away.  We called them all right them.\n",
            "Complete :  Ses05M_impro03_M024\n",
            "mfccs\n",
            "hap\n",
            "Oh, yeah.  My mom's freaking out. Oh yeah, She's so happy. this is you know  It's her dream come true.  She always wanted her little boy -- she wants kids, you know.\n",
            "Complete :  Ses05M_impro03_M025\n",
            "mfccs\n",
            "hap\n",
            "She wants grandkids. So we'll be working on that right away.\n",
            "Complete :  Ses05M_impro03_M026\n",
            "mfccs\n",
            "hap\n",
            "Of course, we're gonna have kids, like three at least.\n",
            "Complete :  Ses05M_impro03_M027\n",
            "mfccs\n",
            "hap\n",
            "Oh, yeah, yeah, yeah, yeah I mean, actually we lived together awhile back when we -- Yeah, back in college for a little while. yeah.\n",
            "Complete :  Ses05M_impro03_M030\n",
            "mfccs\n",
            "hap\n",
            "But that- so we are really used to each other. We took the time apart and now we're going to get back together.  We're going to move in soon.\n",
            "Complete :  Ses05M_impro03_M031\n",
            "mfccs\n",
            "hap\n",
            "it's great. I'm a lucky man.\n",
            "Complete :  Ses05M_impro03_M032\n",
            "mfccs\n",
            "hap\n",
            "She wants like eight- She wants like eight kids and I'm like, no, no, no, no, no.  I am like what Let's do maybe three and we'll go with that.\n",
            "Complete :  Ses05M_impro03_M028\n",
            "mfccs\n",
            "hap\n",
            "Thank you.\n",
            "Complete :  Ses05M_impro03_M033\n",
            "mfccs\n",
            "hap\n",
            "And I remember thinking, Finally, finally.  I am as happy as I am supposed to be.\n",
            "Complete :  Ses05F_script02_2_F015\n",
            "mfccs\n",
            "hap\n",
            "Good.  So maybe we are on the wrong spot but we are with the right person.\n",
            "Complete :  Ses05F_script02_2_F033\n",
            "mfccs\n",
            "hap\n",
            "Yes, I did notice that.  It does look really beautiful on the water.  The gold white moon.\n",
            "Complete :  Ses05F_script02_2_F034\n",
            "mfccs\n",
            "hap\n",
            "No, I am beginning to think that maybe this is the spot after all.\n",
            "Complete :  Ses05F_script02_2_F037\n",
            "mfccs\n",
            "hap\n",
            "Actually, now that you mention it.  No, I don't.\n",
            "Complete :  Ses05F_script02_2_M035\n",
            "mfccs\n",
            "hap\n",
            "I don't know.  Seems like a pretty good spot to me I mean look at the view of the moon you got from here.\n",
            "Complete :  Ses05F_script02_2_M036\n",
            "mfccs\n",
            "hap\n",
            "Well, look what we have got here.\n",
            "Complete :  Ses05F_script02_2_M037\n",
            "mfccs\n",
            "hap\n",
            "Shh, If we're very quiet, the fish might come.\n",
            "Complete :  Ses05F_script02_2_M040\n",
            "mfccs\n",
            "hap\n",
            "Or not.\n",
            "Complete :  Ses05F_script02_2_M041\n",
            "mfccs\n",
            "hap\n",
            "You're the only one I know who loves his parents.\n",
            "Complete :  Ses05F_script01_3_F000\n",
            "mfccs\n",
            "hap\n",
            "It's so lovely here.  The air is sweet.\n",
            "Complete :  Ses05F_script01_3_F002\n",
            "mfccs\n",
            "hap\n",
            "No, it's good.\n",
            "Complete :  Ses05F_script01_3_F001\n",
            "mfccs\n",
            "hap\n",
            "No.  But I'm not going to stay.\n",
            "Complete :  Ses05F_script01_3_F003\n",
            "mfccs\n",
            "hap\n",
            "I guess this is why I came.\n",
            "Complete :  Ses05F_script01_3_F009\n",
            "mfccs\n",
            "hap\n",
            "I'll never forgive you.  Why did you wait so long?  All this time I've been wondering if I was a fool for thinking of you!\n",
            "Complete :  Ses05F_script01_3_F015\n",
            "mfccs\n",
            "hap\n",
            "Like Larry's brother.  Do it like you, Chris.  Chris, what's the matter?\n",
            "Complete :  Ses05F_script01_3_F017\n",
            "mfccs\n",
            "hap\n",
            "Not like that, you're not.\n",
            "Complete :  Ses05F_script01_3_F016\n",
            "mfccs\n",
            "hap\n",
            "What would I do with a fortune?\n",
            "Complete :  Ses05F_script01_3_F026\n",
            "mfccs\n",
            "hap\n",
            "I know.  It's going out of style isn't it?\n",
            "Complete :  Ses05F_script01_3_M000\n",
            "mfccs\n",
            "hap\n",
            "Well the plan was to kind of sneak up on you over a period of a week or so.  But uh- they take it for granted that we're all set.\n",
            "Complete :  Ses05F_script01_3_M005\n",
            "mfccs\n",
            "hap\n",
            "Anne, I love you.  I love you a great deal.  I love you!\n",
            "Complete :  Ses05F_script01_3_M008\n",
            "mfccs\n",
            "hap\n",
            "Oh Annie.  Annie, I am going to make you a fortune!\n",
            "Complete :  Ses05F_script01_3_M040\n",
            "mfccs\n",
            "hap\n",
            "That would be wonderful, that would be great seriously.\n",
            "Complete :  Ses05F_impro08_M025\n",
            "mfccs\n",
            "hap\n",
            "You too, thank you so much, have a wonderful day.\n",
            "Complete :  Ses05F_impro08_M031\n",
            "mfccs\n",
            "hap\n",
            "thank you, what's the number?\n",
            "Complete :  Ses05F_impro08_M026\n",
            "mfccs\n",
            "hap\n",
            "It was horrible, but you've made it much better, thank you very much. Absolutely\n",
            "Complete :  Ses05F_impro08_M030\n",
            "mfccs\n",
            "hap\n",
            "six four nine four. That would be so great, thank you so much.\n",
            "Complete :  Ses05F_impro08_M028\n",
            "mfccs\n",
            "hap\n",
            "Uh- I don't know.\n",
            "Complete :  Ses05F_impro07_F006\n",
            "mfccs\n",
            "hap\n",
            "Okay, you're right, you're right, you're right,  right.  Maybe we should get a place together.\n",
            "Complete :  Ses05F_impro07_M007\n",
            "mfccs\n",
            "hap\n",
            "It's so weird too, right, that like you can grow up so near somebody and never know them until you travel hundreds of miles away.\n",
            "Complete :  Ses05F_impro03_F027\n",
            "mfccs\n",
            "hap\n",
            "Right, being like oh, where are you from?  The U.S.  Where in the U.S.?  Chicago.  Where in Chicago?\n",
            "Complete :  Ses05F_impro03_F029\n",
            "mfccs\n",
            "hap\n",
            "I know\n",
            "Complete :  Ses05F_impro03_F028\n",
            "mfccs\n",
            "hap\n",
            "Yeah.\n",
            "Complete :  Ses05F_impro03_F031\n",
            "mfccs\n",
            "hap\n",
            "Knowing the neighborhood.  Yeah, it's pretty bizarre.\n",
            "Complete :  Ses05F_impro03_F030\n",
            "mfccs\n",
            "hap\n",
            "Mm-hmm.\n",
            "Complete :  Ses05F_impro03_F032\n",
            "mfccs\n",
            "hap\n",
            "Yeah, she loves him.\n",
            "Complete :  Ses05F_impro03_F033\n",
            "mfccs\n",
            "hap\n",
            "Yeah, she-yeah, that's my type.\n",
            "Complete :  Ses05F_impro03_F034\n",
            "mfccs\n",
            "hap\n",
            "Thank you.\n",
            "Complete :  Ses05F_impro03_F035\n",
            "mfccs\n",
            "hap\n",
            "[LAUGHTER]\n",
            "Complete :  Ses05F_impro03_F036\n",
            "mfccs\n",
            "hap\n",
            "Sorry.\n",
            "Complete :  Ses05F_impro03_F039\n",
            "mfccs\n",
            "hap\n",
            "There's still time for that.\n",
            "Complete :  Ses05F_impro03_F040\n",
            "mfccs\n",
            "hap\n",
            "[BREATHING]\n",
            "Complete :  Ses05F_impro03_F041\n",
            "mfccs\n",
            "hap\n",
            "I have to think about moving now.  We're going to move in together\n",
            "Complete :  Ses05F_impro03_F046\n",
            "mfccs\n",
            "hap\n",
            "I think it's a good idea to live together before you get married.\n",
            "Complete :  Ses05F_impro03_F047\n",
            "mfccs\n",
            "hap\n",
            "I don't want a house, I mean just-\n",
            "Complete :  Ses05F_impro03_F048\n",
            "mfccs\n",
            "hap\n",
            "L.A. apartment is fine.\n",
            "Complete :  Ses05F_impro03_F049\n",
            "mfccs\n",
            "hap\n",
            "Two artists, though.  We're bound to be poor forever.\n",
            "Complete :  Ses05F_impro03_F051\n",
            "mfccs\n",
            "hap\n",
            "Definitely not for a while\n",
            "Complete :  Ses05F_impro03_F053\n",
            "mfccs\n",
            "hap\n",
            "yeah.\n",
            "Complete :  Ses05F_impro03_F054\n",
            "mfccs\n",
            "hap\n",
            "[LAUGHTER] Good luck.\n",
            "Complete :  Ses05F_impro03_F055\n",
            "mfccs\n",
            "hap\n",
            "You won't have trouble, You won't have trouble.\n",
            "Complete :  Ses05F_impro03_F056\n",
            "mfccs\n",
            "hap\n",
            "You should just approach her like that.  Hey, will you bear my children?\n",
            "Complete :  Ses05F_impro03_F057\n",
            "mfccs\n",
            "hap\n",
            "Total turn on.\n",
            "Complete :  Ses05F_impro03_F059\n",
            "mfccs\n",
            "hap\n",
            "Yeah, totally.\n",
            "Complete :  Ses05F_impro03_F058\n",
            "mfccs\n",
            "hap\n",
            "[LAUGHTER]\n",
            "Complete :  Ses05F_impro03_F060\n",
            "mfccs\n",
            "hap\n",
            "[LAUGHTER] I am sil\n",
            "Complete :  Ses05F_impro03_M030\n",
            "mfccs\n",
            "hap\n",
            "[LAUGHTER]\n",
            "Complete :  Ses05F_impro03_M038\n",
            "mfccs\n",
            "hap\n",
            "Exactly.\n",
            "Complete :  Ses05F_impro03_M040\n",
            "mfccs\n",
            "hap\n",
            "Exactly, \"laugh\".\n",
            "Complete :  Ses05F_impro03_M041\n",
            "mfccs\n",
            "hap\n",
            "So I was one of the first ones? That makes me feel so important.\n",
            "Complete :  Ses05F_impro03_M049\n",
            "mfccs\n",
            "hap\n",
            "yeah.\n",
            "Complete :  Ses05F_impro03_M057\n",
            "mfccs\n",
            "hap\n",
            "yeah.\n",
            "Complete :  Ses05F_impro03_M058\n",
            "mfccs\n",
            "hap\n",
            "[LAUGHTER]\n",
            "Complete :  Ses05F_impro03_M060\n",
            "mfccs\n",
            "hap\n",
            "Oh, thanks.  I'll need it.\n",
            "Complete :  Ses05F_impro03_M061\n",
            "mfccs\n",
            "hap\n",
            "Oh thanks, you're too nice\n",
            "Complete :  Ses05F_impro03_M062\n",
            "mfccs\n",
            "hap\n",
            "just being polite now\n",
            "Complete :  Ses05F_impro03_M063\n",
            "mfccs\n",
            "hap\n",
            "Exactly, [LAUGHTER] I think that'll go over great, don't you?\n",
            "Complete :  Ses05F_impro03_M065\n",
            "mfccs\n",
            "hap\n",
            "because I am not getting married.\n",
            "Complete :  Ses05F_impro03_M064\n",
            "mfccs\n",
            "hap\n",
            "That's what girls like, right?\n",
            "Complete :  Ses05F_impro03_M066\n",
            "mfccs\n",
            "hap\n",
            "That'd be great, thanks.\n",
            "Complete :  Ses05F_impro03_M068\n",
            "mfccs\n",
            "hap\n",
            "Would you mind popping out a few for me?\n",
            "Complete :  Ses05F_impro03_M067\n"
          ]
        }
      ]
    },
    {
      "cell_type": "code",
      "source": [
        "text_ses1"
      ],
      "metadata": {
        "id": "HTZh2uWj1xdH"
      },
      "execution_count": null,
      "outputs": []
    },
    {
      "cell_type": "code",
      "source": [
        "path = '/content/drive/MyDrive/mfccs_ses5_hap.pickle'\n",
        "\n",
        "\n",
        "# Open the file in binary write mode\n",
        "with open(path, 'wb') as f:\n",
        "    # Dump the data into the file\n",
        "    pickle.dump(mfccs_ses1, f)\n",
        "path = '/content/drive/MyDrive/text_ses5_hap.pickle'\n",
        "\n",
        "\n",
        "# Open the file in binary write mode\n",
        "with open(path, 'wb') as f:\n",
        "    # Dump the data into the file\n",
        "    pickle.dump(text_ses1, f)\n",
        "\n",
        "path = '/content/drive/MyDrive/emotion_ses5_hap.pickle'\n",
        "\n",
        "\n",
        "# Open the file in binary write mode\n",
        "with open(path, 'wb') as f:\n",
        "    # Dump the data into the file\n",
        "    pickle.dump(emotion_ses1, f)"
      ],
      "metadata": {
        "id": "vhL96xSDevHU"
      },
      "execution_count": null,
      "outputs": []
    },
    {
      "cell_type": "code",
      "source": [
        "max_length =max([len(sentence) for sentence in tokenized_sentences])\n",
        "vocab_size = len(tokenizer.word_index) +1"
      ],
      "metadata": {
        "id": "ABWdHzb_LaHO"
      },
      "execution_count": null,
      "outputs": []
    },
    {
      "cell_type": "code",
      "source": [
        "\n",
        "tokenized_text_ses1 = tokenizer.texts_to_sequences(text_ses1)\n",
        "padded_text_ses1 = pad_sequences(tokenized_text_ses1,maxlen = max_length,padding = 'post')"
      ],
      "metadata": {
        "id": "u3Z56bXMKgRx"
      },
      "execution_count": null,
      "outputs": []
    },
    {
      "cell_type": "code",
      "source": [
        "#save padded_text_ses1"
      ],
      "metadata": {
        "id": "ic2AalQ9NcT_"
      },
      "execution_count": null,
      "outputs": []
    },
    {
      "cell_type": "code",
      "source": [
        "# max_padding = max([item.shape[1] for item in mfccs_ses1])\n",
        "# print(max_padding)"
      ],
      "metadata": {
        "id": "7p25YgHPKkL7"
      },
      "execution_count": null,
      "outputs": []
    },
    {
      "cell_type": "code",
      "source": [
        "# padded_mfccs_ses1 = []\n",
        "# for mfccs in mfccs_ses1:\n",
        "#   pad_width = max_padding - mfccs.shape[1]\n",
        "\n",
        "\n",
        "#   if pad_width > 0:\n",
        "#     mfccs = np.pad(mfccs, pad_width=((0, 0), (0, pad_width)), mode='constant')\n",
        "#     padded_mfccs_ses1.append(mfccs)\n",
        "#   else:\n",
        "#     mfccs = mfccs[:, :max_padding]\n",
        "#     padded_mfccs_ses1.append(mfccs)"
      ],
      "metadata": {
        "id": "n6wLe2pOKmMY"
      },
      "execution_count": null,
      "outputs": []
    },
    {
      "cell_type": "code",
      "source": [
        "le = LabelEncoder()\n",
        "y_encoded =to_categorical(le.fit_transform(emotion_ses1))#CHANGE HERE"
      ],
      "metadata": {
        "id": "4kSPVi3YKo5C"
      },
      "execution_count": null,
      "outputs": []
    },
    {
      "cell_type": "code",
      "source": [
        "#save y_encoded\n",
        "#save mfccs_ses1"
      ],
      "metadata": {
        "id": "a-iy0Z51Pwjr"
      },
      "execution_count": null,
      "outputs": []
    },
    {
      "cell_type": "code",
      "source": [
        "# padded_mfccs_ses1_transposed = [np.transpose(m) for m in padded_mfccs_ses1 ]"
      ],
      "metadata": {
        "id": "MY0R0Ct-Kx2f"
      },
      "execution_count": null,
      "outputs": []
    },
    {
      "cell_type": "code",
      "source": [
        "target_sr = 16000\n",
        "top_db=20\n",
        "audio , sr = librosa.load('/content/drive/MyDrive/IEMOCAP_full_release/Session1/sentences/wav/Ses01F_impro01/Ses01F_impro01_F000.wav', sr = None)\n",
        "resampled_audio = librosa.resample(audio,orig_sr = sr,target_sr = target_sr)\n",
        "\n",
        "n_mfcc=13\n",
        "n_fft=2048\n",
        "hop_length=512\n",
        "mfccs1 = librosa.feature.mfcc(y=resampled_audio, sr=target_sr, n_mfcc=n_mfcc, n_fft=n_fft, hop_length=hop_length)\n",
        "non_silent_intervals = librosa.effects.split(resampled_audio, top_db=top_db)\n",
        "\n",
        "    # Concatenate non-silent parts\n",
        "y_non_silent = np.concatenate([resampled_audio[start:end] for start, end in non_silent_intervals])\n",
        "\n",
        "\n",
        "    # Extract MFCC features\n",
        "mfccs2 = librosa.feature.mfcc(y=y_non_silent, sr=target_sr, n_mfcc=n_mfcc, n_fft=n_fft, hop_length=hop_length)"
      ],
      "metadata": {
        "id": "dhggeYE9VHmP"
      },
      "execution_count": null,
      "outputs": []
    },
    {
      "cell_type": "code",
      "source": [],
      "metadata": {
        "colab": {
          "base_uri": "https://localhost:8080/"
        },
        "id": "4pKBtZgPVsJ9",
        "outputId": "17617c1d-31c4-4a9d-d9cc-177100d97e6a"
      },
      "execution_count": null,
      "outputs": [
        {
          "output_type": "stream",
          "name": "stdout",
          "text": [
            "[[1], [2], [3], 4, 5, 6]\n"
          ]
        }
      ]
    },
    {
      "cell_type": "code",
      "source": [
        "mfccs1.shape"
      ],
      "metadata": {
        "colab": {
          "base_uri": "https://localhost:8080/"
        },
        "id": "f6xWLEjRVtri",
        "outputId": "bf4b8548-4f2a-4ac4-f6c5-38287a1cfb2a"
      },
      "execution_count": null,
      "outputs": [
        {
          "output_type": "execute_result",
          "data": {
            "text/plain": [
              "(13, 61)"
            ]
          },
          "metadata": {},
          "execution_count": 65
        }
      ]
    }
  ]
}