{
  "nbformat": 4,
  "nbformat_minor": 0,
  "metadata": {
    "colab": {
      "provenance": []
    },
    "kernelspec": {
      "name": "python3",
      "display_name": "Python 3"
    },
    "language_info": {
      "name": "python"
    }
  },
  "cells": [
    {
      "cell_type": "code",
      "execution_count": null,
      "metadata": {
        "colab": {
          "base_uri": "https://localhost:8080/"
        },
        "id": "bavBVqDFoIq2",
        "outputId": "142b2f2e-449d-4713-e7bb-da62125a083f"
      },
      "outputs": [
        {
          "output_type": "stream",
          "name": "stdout",
          "text": [
            "Mounted at /content/drive\n"
          ]
        }
      ],
      "source": [
        "from google.colab import drive\n",
        "import pickle\n",
        "drive.mount('/content/drive')"
      ]
    },
    {
      "cell_type": "code",
      "source": [
        "from tensorflow.keras.preprocessing.text import Tokenizer\n",
        "from tensorflow.keras.preprocessing.sequence import pad_sequences\n",
        "from sklearn.preprocessing import LabelEncoder\n",
        "from keras.utils import to_categorical\n",
        "from tensorflow.keras.models import Sequential\n",
        "from tensorflow.keras.layers import Embedding, Flatten, Dense,Input,Bidirectional,LSTM,GRU,SimpleRNN,Dropout,LayerNormalization , Concatenate\n",
        "from tensorflow.keras.models import Model\n",
        "from sklearn.model_selection import train_test_split\n",
        "from tensorflow.keras.optimizers import Adam\n",
        "from tensorflow.keras.callbacks import EarlyStopping,ReduceLROnPlateau\n",
        "from sklearn.utils import class_weight\n",
        "import librosa\n",
        "import numpy as np"
      ],
      "metadata": {
        "id": "j3cf9r1tonRo"
      },
      "execution_count": null,
      "outputs": []
    },
    {
      "cell_type": "code",
      "source": [
        "mfccs_ses1=[]\n",
        "text_ses1=[]\n",
        "emotion_ses1=[]\n",
        "\n",
        "mfccs_ses2=[]\n",
        "text_ses2=[]\n",
        "emotion_ses2=[]\n",
        "\n",
        "mfccs_ses3=[]\n",
        "text_ses3=[]\n",
        "emotion_ses3=[]\n",
        "\n",
        "\n",
        "mfccs_ses4=[]\n",
        "text_ses4=[]\n",
        "emotion_ses4=[]\n",
        "\n",
        "\n",
        "mfccs_ses5=[]\n",
        "text_ses5=[]\n",
        "emotion_ses5=[]"
      ],
      "metadata": {
        "id": "dp41QPBsTOn8"
      },
      "execution_count": null,
      "outputs": []
    },
    {
      "cell_type": "code",
      "source": [
        "mfccs_ses1_hap=[]\n",
        "text_ses1_hap=[]\n",
        "emotion_ses1_hap=[]\n",
        "\n",
        "mfccs_ses2_hap=[]\n",
        "text_ses2_hap=[]\n",
        "emotion_ses2_hap=[]\n",
        "\n",
        "mfccs_ses3_hap=[]\n",
        "text_ses3_hap=[]\n",
        "emotion_ses3_hap=[]\n",
        "\n",
        "\n",
        "mfccs_ses4_hap=[]\n",
        "text_ses4_hap=[]\n",
        "emotion_ses4_hap=[]\n",
        "\n",
        "\n",
        "mfccs_ses5_hap=[]\n",
        "text_ses5_hap=[]\n",
        "emotion_ses5_hap=[]"
      ],
      "metadata": {
        "id": "qOtUlcaHtIJx"
      },
      "execution_count": null,
      "outputs": []
    },
    {
      "cell_type": "markdown",
      "source": [
        "Importing previously saved pickle files"
      ],
      "metadata": {
        "id": "ZH4br3ThTgW1"
      }
    },
    {
      "cell_type": "code",
      "source": [
        "file_path = '/content/drive/MyDrive/mfccs_ses1.pickle'\n",
        "\n",
        "# Open the file in binary read mode\n",
        "with open(file_path, 'rb') as f:\n",
        "    # Load the data from the file\n",
        "    mfccs_ses1 = pickle.load(f)\n",
        "\n",
        "\n",
        "file_path = '/content/drive/MyDrive/text_ses1.pickle'\n",
        "\n",
        "# Open the file in binary read mode\n",
        "with open(file_path, 'rb') as f:\n",
        "    # Load the data from the file\n",
        "    text_ses1 = pickle.load(f)\n",
        "\n",
        "file_path = '/content/drive/MyDrive/emotion_ses1.pickle'\n",
        "\n",
        "# Open the file in binary read mode\n",
        "with open(file_path, 'rb') as f:\n",
        "    # Load the data from the file\n",
        "    emotion_ses1 = pickle.load(f)\n",
        "\n",
        "\n",
        "\n"
      ],
      "metadata": {
        "id": "lbh0xlzbojzC"
      },
      "execution_count": null,
      "outputs": []
    },
    {
      "cell_type": "code",
      "source": [
        "file_path = '/content/drive/MyDrive/mfccs_ses1_hap.pickle'\n",
        "\n",
        "# Open the file in binary read mode\n",
        "with open(file_path, 'rb') as f:\n",
        "    # Load the data from the file\n",
        "    mfccs_ses1_hap = pickle.load(f)\n",
        "\n",
        "\n",
        "\n",
        "file_path = '/content/drive/MyDrive/text_ses1_hap.pickle'\n",
        "\n",
        "# Open the file in binary read mode\n",
        "with open(file_path, 'rb') as f:\n",
        "    # Load the data from the file\n",
        "    text_ses1_hap = pickle.load(f)\n",
        "\n",
        "file_path = '/content/drive/MyDrive/emotion_ses1_hap.pickle'\n",
        "\n",
        "# Open the file in binary read mode\n",
        "with open(file_path, 'rb') as f:\n",
        "    # Load the data from the file\n",
        "    emotion_ses1_hap = pickle.load(f)\n",
        "\n",
        "\n",
        "\n"
      ],
      "metadata": {
        "id": "hqn3lisst6AD"
      },
      "execution_count": null,
      "outputs": []
    },
    {
      "cell_type": "code",
      "source": [
        "file_path = '/content/drive/MyDrive/mfccs_ses2.pickle'\n",
        "\n",
        "# Open the file in binary read mode\n",
        "with open(file_path, 'rb') as f:\n",
        "    # Load the data from the file\n",
        "    mfccs_ses2 = pickle.load(f)\n",
        "\n",
        "\n",
        "file_path = '/content/drive/MyDrive/text_ses2.pickle'\n",
        "\n",
        "# Open the file in binary read mode\n",
        "with open(file_path, 'rb') as f:\n",
        "    # Load the data from the file\n",
        "    text_ses2 = pickle.load(f)\n",
        "\n",
        "file_path = '/content/drive/MyDrive/emotion_ses2.pickle'\n",
        "\n",
        "# Open the file in binary read mode\n",
        "with open(file_path, 'rb') as f:\n",
        "    # Load the data from the file\n",
        "    emotion_ses2 = pickle.load(f)\n",
        "\n",
        "\n",
        "\n"
      ],
      "metadata": {
        "id": "fx-bzQM3p1Bl"
      },
      "execution_count": null,
      "outputs": []
    },
    {
      "cell_type": "code",
      "source": [
        "file_path = '/content/drive/MyDrive/mfccs_ses2_hap.pickle'\n",
        "\n",
        "# Open the file in binary read mode\n",
        "with open(file_path, 'rb') as f:\n",
        "    # Load the data from the file\n",
        "    mfccs_ses2_hap = pickle.load(f)\n",
        "\n",
        "\n",
        "\n",
        "file_path = '/content/drive/MyDrive/text_ses2_hap.pickle'\n",
        "\n",
        "# Open the file in binary read mode\n",
        "with open(file_path, 'rb') as f:\n",
        "    # Load the data from the file\n",
        "    text_ses2_hap = pickle.load(f)\n",
        "\n",
        "file_path = '/content/drive/MyDrive/emotion_ses2_hap.pickle'\n",
        "\n",
        "# Open the file in binary read mode\n",
        "with open(file_path, 'rb') as f:\n",
        "    # Load the data from the file\n",
        "    emotion_ses2_hap = pickle.load(f)\n",
        "\n",
        "\n",
        "\n"
      ],
      "metadata": {
        "id": "Yo7Kc5WvuK3F"
      },
      "execution_count": null,
      "outputs": []
    },
    {
      "cell_type": "code",
      "source": [
        "file_path = '/content/drive/MyDrive/mfccs_ses3.pickle'\n",
        "\n",
        "# Open the file in binary read mode\n",
        "with open(file_path, 'rb') as f:\n",
        "    # Load the data from the file\n",
        "    mfccs_ses3 = pickle.load(f)\n",
        "\n",
        "\n",
        "file_path = '/content/drive/MyDrive/text_ses3.pickle'\n",
        "\n",
        "# Open the file in binary read mode\n",
        "with open(file_path, 'rb') as f:\n",
        "    # Load the data from the file\n",
        "    text_ses3 = pickle.load(f)\n",
        "\n",
        "file_path = '/content/drive/MyDrive/emotion_ses3.pickle'\n",
        "\n",
        "# Open the file in binary read mode\n",
        "with open(file_path, 'rb') as f:\n",
        "    # Load the data from the file\n",
        "    emotion_ses3 = pickle.load(f)\n",
        "\n",
        "\n",
        "\n"
      ],
      "metadata": {
        "id": "kpMGdEIkp62j"
      },
      "execution_count": null,
      "outputs": []
    },
    {
      "cell_type": "code",
      "source": [
        "file_path = '/content/drive/MyDrive/mfccs_ses3_hap.pickle'\n",
        "\n",
        "# Open the file in binary read mode\n",
        "with open(file_path, 'rb') as f:\n",
        "    # Load the data from the file\n",
        "    mfccs_ses3_hap = pickle.load(f)\n",
        "\n",
        "\n",
        "\n",
        "file_path = '/content/drive/MyDrive/text_ses3_hap.pickle'\n",
        "\n",
        "# Open the file in binary read mode\n",
        "with open(file_path, 'rb') as f:\n",
        "    # Load the data from the file\n",
        "    text_ses3_hap = pickle.load(f)\n",
        "\n",
        "file_path = '/content/drive/MyDrive/emotion_ses3_hap.pickle'\n",
        "\n",
        "# Open the file in binary read mode\n",
        "with open(file_path, 'rb') as f:\n",
        "    # Load the data from the file\n",
        "    emotion_ses3_hap = pickle.load(f)\n",
        "\n",
        "\n",
        "\n"
      ],
      "metadata": {
        "id": "Jgxm0ZqyuWQx"
      },
      "execution_count": null,
      "outputs": []
    },
    {
      "cell_type": "code",
      "source": [
        "file_path = '/content/drive/MyDrive/mfccs_ses4.pickle'\n",
        "\n",
        "# Open the file in binary read mode\n",
        "with open(file_path, 'rb') as f:\n",
        "    # Load the data from the file\n",
        "    mfccs_ses4 = pickle.load(f)\n",
        "\n",
        "\n",
        "file_path = '/content/drive/MyDrive/text_ses4.pickle'\n",
        "\n",
        "# Open the file in binary read mode\n",
        "with open(file_path, 'rb') as f:\n",
        "    # Load the data from the file\n",
        "    text_ses4 = pickle.load(f)\n",
        "\n",
        "file_path = '/content/drive/MyDrive/emotion_ses4.pickle'\n",
        "\n",
        "# Open the file in binary read mode\n",
        "with open(file_path, 'rb') as f:\n",
        "    # Load the data from the file\n",
        "    emotion_ses4 = pickle.load(f)\n",
        "\n",
        "\n",
        "\n"
      ],
      "metadata": {
        "id": "y3UIpQUFqCM1"
      },
      "execution_count": null,
      "outputs": []
    },
    {
      "cell_type": "code",
      "source": [
        "file_path = '/content/drive/MyDrive/mfccs_ses4_hap.pickle'\n",
        "\n",
        "# Open the file in binary read mode\n",
        "with open(file_path, 'rb') as f:\n",
        "    # Load the data from the file\n",
        "    mfccs_ses4_hap = pickle.load(f)\n",
        "\n",
        "\n",
        "\n",
        "file_path = '/content/drive/MyDrive/text_ses4_hap.pickle'\n",
        "\n",
        "# Open the file in binary read mode\n",
        "with open(file_path, 'rb') as f:\n",
        "    # Load the data from the file\n",
        "    text_ses4_hap = pickle.load(f)\n",
        "\n",
        "file_path = '/content/drive/MyDrive/emotion_ses4_hap.pickle'\n",
        "\n",
        "# Open the file in binary read mode\n",
        "with open(file_path, 'rb') as f:\n",
        "    # Load the data from the file\n",
        "    emotion_ses4_hap = pickle.load(f)\n",
        "\n",
        "\n",
        "\n"
      ],
      "metadata": {
        "id": "Jxxk1-5UupwQ"
      },
      "execution_count": null,
      "outputs": []
    },
    {
      "cell_type": "code",
      "source": [
        "file_path = '/content/drive/MyDrive/mfccs_ses5.pickle'\n",
        "\n",
        "# Open the file in binary read mode\n",
        "with open(file_path, 'rb') as f:\n",
        "    # Load the data from the file\n",
        "    mfccs_ses5 = pickle.load(f)\n",
        "\n",
        "\n",
        "file_path = '/content/drive/MyDrive/text_ses5.pickle'\n",
        "\n",
        "# Open the file in binary read mode\n",
        "with open(file_path, 'rb') as f:\n",
        "    # Load the data from the file\n",
        "    text_ses5 = pickle.load(f)\n",
        "\n",
        "file_path = '/content/drive/MyDrive/emotion_ses5.pickle'\n",
        "\n",
        "# Open the file in binary read mode\n",
        "with open(file_path, 'rb') as f:\n",
        "    # Load the data from the file\n",
        "    emotion_ses5 = pickle.load(f)\n",
        "\n",
        "\n",
        "\n"
      ],
      "metadata": {
        "id": "Pyf5HpLuqG5J"
      },
      "execution_count": null,
      "outputs": []
    },
    {
      "cell_type": "code",
      "source": [
        "file_path = '/content/drive/MyDrive/mfccs_ses5_hap.pickle'\n",
        "\n",
        "# Open the file in binary read mode\n",
        "with open(file_path, 'rb') as f:\n",
        "    # Load the data from the file\n",
        "    mfccs_ses5_hap = pickle.load(f)\n",
        "\n",
        "\n",
        "\n",
        "file_path = '/content/drive/MyDrive/text_ses5_hap.pickle'\n",
        "\n",
        "# Open the file in binary read mode\n",
        "with open(file_path, 'rb') as f:\n",
        "    # Load the data from the file\n",
        "    text_ses5_hap = pickle.load(f)\n",
        "\n",
        "file_path = '/content/drive/MyDrive/emotion_ses5_hap.pickle'\n",
        "\n",
        "# Open the file in binary read mode\n",
        "with open(file_path, 'rb') as f:\n",
        "    # Load the data from the file\n",
        "    emotion_ses5_hap = pickle.load(f)\n",
        "\n",
        "\n",
        "\n"
      ],
      "metadata": {
        "id": "qVHAXQNOu36m"
      },
      "execution_count": null,
      "outputs": []
    },
    {
      "cell_type": "markdown",
      "source": [
        "Combining MFCCs of all sessions and augmented MFCCs"
      ],
      "metadata": {
        "id": "EPRdYedZUJip"
      }
    },
    {
      "cell_type": "code",
      "source": [
        "mfccs_aug_hap = mfccs_ses1_hap + mfccs_ses2_hap + mfccs_ses3_hap + mfccs_ses4_hap + mfccs_ses5_hap\n",
        "print(len(mfccs_aug_hap))"
      ],
      "metadata": {
        "colab": {
          "base_uri": "https://localhost:8080/"
        },
        "id": "kQqJ9o3QvUpS",
        "outputId": "531231df-e43e-4144-e158-d3132cee47bb"
      },
      "execution_count": null,
      "outputs": [
        {
          "output_type": "stream",
          "name": "stdout",
          "text": [
            "595\n"
          ]
        }
      ]
    },
    {
      "cell_type": "code",
      "source": [
        "mfccs = mfccs_ses1 + mfccs_ses2 + mfccs_ses3 + mfccs_ses4 + mfccs_ses5+ mfccs_aug_hap\n",
        "print(len(mfccs))"
      ],
      "metadata": {
        "colab": {
          "base_uri": "https://localhost:8080/"
        },
        "id": "RetD1w1BrwU8",
        "outputId": "8ee8f1b7-8051-4219-e530-11bbef699156"
      },
      "execution_count": null,
      "outputs": [
        {
          "output_type": "stream",
          "name": "stdout",
          "text": [
            "5633\n"
          ]
        }
      ]
    },
    {
      "cell_type": "markdown",
      "source": [
        "Combining text of all sessions and augmented text"
      ],
      "metadata": {
        "id": "SgLESlO_VKAX"
      }
    },
    {
      "cell_type": "code",
      "source": [
        "text_aug_hap = text_ses1_hap + text_ses2_hap + text_ses3_hap + text_ses4_hap + text_ses5_hap\n",
        "print(len(text_aug_hap))"
      ],
      "metadata": {
        "colab": {
          "base_uri": "https://localhost:8080/"
        },
        "id": "o3RqWew6wAX-",
        "outputId": "d5bdcab4-9162-488a-d843-6d6ebc5837e5"
      },
      "execution_count": null,
      "outputs": [
        {
          "output_type": "stream",
          "name": "stdout",
          "text": [
            "595\n"
          ]
        }
      ]
    },
    {
      "cell_type": "code",
      "source": [
        "text = text_ses1 + text_ses2 + text_ses3 + text_ses4 + text_ses5 + text_aug_hap\n",
        "print(len(text))"
      ],
      "metadata": {
        "colab": {
          "base_uri": "https://localhost:8080/"
        },
        "id": "z8w21iOF3sXb",
        "outputId": "2afc5da0-ddf1-4185-8037-a6d5c56d8045"
      },
      "execution_count": null,
      "outputs": [
        {
          "output_type": "stream",
          "name": "stdout",
          "text": [
            "5633\n"
          ]
        }
      ]
    },
    {
      "cell_type": "markdown",
      "source": [
        "Combining labels of all sessions and labels of augmented datas"
      ],
      "metadata": {
        "id": "SQNk9M5SVOlr"
      }
    },
    {
      "cell_type": "code",
      "source": [
        "emotion_aug_hap = emotion_ses1_hap + emotion_ses2_hap + emotion_ses3_hap + emotion_ses4_hap + emotion_ses5_hap\n",
        "print(len(emotion_aug_hap))"
      ],
      "metadata": {
        "colab": {
          "base_uri": "https://localhost:8080/"
        },
        "id": "uhymNl6WwOtz",
        "outputId": "b876d055-3449-4239-910d-6b66747d526f"
      },
      "execution_count": null,
      "outputs": [
        {
          "output_type": "stream",
          "name": "stdout",
          "text": [
            "595\n"
          ]
        }
      ]
    },
    {
      "cell_type": "code",
      "source": [
        "emotion = emotion_ses1 + emotion_ses2 + emotion_ses3 + emotion_ses4 + emotion_ses5 + emotion_aug_hap\n",
        "print(len(emotion))"
      ],
      "metadata": {
        "colab": {
          "base_uri": "https://localhost:8080/"
        },
        "id": "3Qc9lDms35Dc",
        "outputId": "316ed46a-ea5c-490c-e142-3713f84e797d"
      },
      "execution_count": null,
      "outputs": [
        {
          "output_type": "stream",
          "name": "stdout",
          "text": [
            "5633\n"
          ]
        }
      ]
    },
    {
      "cell_type": "markdown",
      "source": [
        "MFCCS PADDING"
      ],
      "metadata": {
        "id": "3dSoJptF7eQb"
      }
    },
    {
      "cell_type": "code",
      "source": [
        "max_padding = max([item.shape[1] for item in mfccs])\n",
        "print(max_padding)"
      ],
      "metadata": {
        "colab": {
          "base_uri": "https://localhost:8080/"
        },
        "id": "cjwL6fKy4Hzb",
        "outputId": "81a10e78-1931-45ea-a5a2-50e24c71f8aa"
      },
      "execution_count": null,
      "outputs": [
        {
          "output_type": "stream",
          "name": "stdout",
          "text": [
            "740\n"
          ]
        }
      ]
    },
    {
      "cell_type": "code",
      "source": [
        "padded_mfccs = []\n",
        "for m in mfccs:\n",
        "  pad_width = max_padding - m.shape[1]\n",
        "\n",
        "\n",
        "  if pad_width > 0:\n",
        "    m = np.pad(m, pad_width=((0, 0), (0, pad_width)), mode='constant')\n",
        "    padded_mfccs.append(m)\n",
        "  else:\n",
        "    m = m[:, :max_padding]\n",
        "    padded_mfccs.append(m)"
      ],
      "metadata": {
        "id": "I2tV1mxi5ToX"
      },
      "execution_count": null,
      "outputs": []
    },
    {
      "cell_type": "code",
      "source": [
        "padded_mfccs[5000].shape"
      ],
      "metadata": {
        "colab": {
          "base_uri": "https://localhost:8080/"
        },
        "id": "Q2KxR6iK56II",
        "outputId": "2975891f-cb4a-42e2-899e-068b3c830c74"
      },
      "execution_count": null,
      "outputs": [
        {
          "output_type": "execute_result",
          "data": {
            "text/plain": [
              "(13, 740)"
            ]
          },
          "metadata": {},
          "execution_count": 23
        }
      ]
    },
    {
      "cell_type": "markdown",
      "source": [
        "Transposing MFCCS"
      ],
      "metadata": {
        "id": "eHd2o3xNSzk4"
      }
    },
    {
      "cell_type": "code",
      "source": [
        "padded_mfccs_transposed = [np.transpose(m) for m in padded_mfccs ]\n",
        "print(padded_mfccs_transposed[1000].shape)"
      ],
      "metadata": {
        "id": "s0VAXTCf5XDS",
        "colab": {
          "base_uri": "https://localhost:8080/"
        },
        "outputId": "81c8613c-411a-4d70-bb98-6e25dc0a167f"
      },
      "execution_count": null,
      "outputs": [
        {
          "output_type": "stream",
          "name": "stdout",
          "text": [
            "(740, 13)\n"
          ]
        }
      ]
    },
    {
      "cell_type": "code",
      "source": [
        "path = '/content/drive/MyDrive/padded_mfccs_combined_augmented.pickle'\n",
        "\n",
        "\n",
        "# Open the file in binary write mode\n",
        "with open(path, 'wb') as f:\n",
        "    # Dump the data into the file\n",
        "    pickle.dump(padded_mfccs_transposed, f)"
      ],
      "metadata": {
        "id": "OulCRx4lxNDk"
      },
      "execution_count": null,
      "outputs": []
    },
    {
      "cell_type": "markdown",
      "source": [
        "TEXT PADDING"
      ],
      "metadata": {
        "id": "P-U5N8pH7kaw"
      }
    },
    {
      "cell_type": "code",
      "source": [
        "tokenizer = Tokenizer()\n",
        "tokenizer.fit_on_texts(text)"
      ],
      "metadata": {
        "id": "JSEPBpML7NYq"
      },
      "execution_count": null,
      "outputs": []
    },
    {
      "cell_type": "code",
      "source": [
        "tokenized_sentences = tokenizer.texts_to_sequences(text)"
      ],
      "metadata": {
        "id": "mG4_AZ3i70_v"
      },
      "execution_count": null,
      "outputs": []
    },
    {
      "cell_type": "code",
      "source": [
        "vocab_size = len(tokenizer.word_index) + 1\n",
        "print(vocab_size)"
      ],
      "metadata": {
        "colab": {
          "base_uri": "https://localhost:8080/"
        },
        "id": "671Nt4HOxsLA",
        "outputId": "1cc63c61-97ef-45d2-c27d-12f0e6145ae3"
      },
      "execution_count": null,
      "outputs": [
        {
          "output_type": "stream",
          "name": "stdout",
          "text": [
            "2843\n"
          ]
        }
      ]
    },
    {
      "cell_type": "code",
      "source": [
        "m = max([len(sentence) for sentence in tokenized_sentences])\n",
        "print(m)"
      ],
      "metadata": {
        "colab": {
          "base_uri": "https://localhost:8080/"
        },
        "id": "k31EIFoF8Bgr",
        "outputId": "fbbd7a85-4ab2-4fd2-a384-3ce0d776c46f"
      },
      "execution_count": null,
      "outputs": [
        {
          "output_type": "stream",
          "name": "stdout",
          "text": [
            "98\n"
          ]
        }
      ]
    },
    {
      "cell_type": "code",
      "source": [
        "max_length = m #max length of sentence\n",
        "padded_sequences = pad_sequences(tokenized_sentences,maxlen = max_length,padding = 'post')"
      ],
      "metadata": {
        "id": "guoJ1WPz8N7r"
      },
      "execution_count": null,
      "outputs": []
    },
    {
      "cell_type": "code",
      "source": [
        "len(padded_sequences)"
      ],
      "metadata": {
        "colab": {
          "base_uri": "https://localhost:8080/"
        },
        "id": "nZCsilLh8TvU",
        "outputId": "359a403b-9aaf-4ece-e2d4-5bf195d0378c"
      },
      "execution_count": null,
      "outputs": [
        {
          "output_type": "execute_result",
          "data": {
            "text/plain": [
              "5633"
            ]
          },
          "metadata": {},
          "execution_count": 30
        }
      ]
    },
    {
      "cell_type": "code",
      "source": [
        "path = '/content/drive/MyDrive/padded_text_combined_augmented.pickle'\n",
        "\n",
        "\n",
        "# Open the file in binary write mode\n",
        "with open(path, 'wb') as f:\n",
        "    # Dump the data into the file\n",
        "    pickle.dump(padded_sequences, f)"
      ],
      "metadata": {
        "id": "4Ur42byq8ppF"
      },
      "execution_count": null,
      "outputs": []
    },
    {
      "cell_type": "markdown",
      "source": [
        "LABELS"
      ],
      "metadata": {
        "id": "MLiM0KolCbej"
      }
    },
    {
      "cell_type": "code",
      "source": [
        "le = LabelEncoder()\n",
        "y_encoded =to_categorical(le.fit_transform(emotion))"
      ],
      "metadata": {
        "id": "KsucvmyR8wem"
      },
      "execution_count": null,
      "outputs": []
    },
    {
      "cell_type": "code",
      "source": [
        "path = '/content/drive/MyDrive/labels_combined_augmented.pickle'\n",
        "\n",
        "\n",
        "# Open the file in binary write mode\n",
        "with open(path, 'wb') as f:\n",
        "    # Dump the data into the file\n",
        "    pickle.dump(y_encoded, f)"
      ],
      "metadata": {
        "id": "-kEGzGlH87vY"
      },
      "execution_count": null,
      "outputs": []
    },
    {
      "cell_type": "code",
      "source": [],
      "metadata": {
        "id": "zMUg2LKpDJ7Q"
      },
      "execution_count": null,
      "outputs": []
    }
  ]
}