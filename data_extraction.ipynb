{
  "nbformat": 4,
  "nbformat_minor": 0,
  "metadata": {
    "colab": {
      "provenance": []
    },
    "kernelspec": {
      "name": "python3",
      "display_name": "Python 3"
    },
    "language_info": {
      "name": "python"
    }
  },
  "cells": [
    {
      "cell_type": "code",
      "execution_count": null,
      "metadata": {
        "colab": {
          "base_uri": "https://localhost:8080/"
        },
        "id": "cfI9TbuSqQtB",
        "outputId": "92d7d7d0-57b5-49b7-b074-53e2d96fb376"
      },
      "outputs": [
        {
          "output_type": "stream",
          "name": "stdout",
          "text": [
            "Mounted at /content/drive\n"
          ]
        }
      ],
      "source": [
        "from google.colab import drive\n",
        "import pickle\n",
        "drive.mount('/content/drive')\n"
      ]
    },
    {
      "cell_type": "markdown",
      "source": [
        "**Data Extraction**"
      ],
      "metadata": {
        "id": "ffAMalljHtci"
      }
    },
    {
      "cell_type": "code",
      "source": [
        "import os\n",
        "import pandas as pd\n",
        "import re\n",
        "extracted_emotion = []\n",
        "extracted_transcription = []\n",
        "audio_feature = []\n",
        "emotion = []\n",
        "def extract_transcription(path):\n",
        "    with open(path, 'r') as file:\n",
        "        data = file.read()\n",
        "\n",
        "\n",
        "\n",
        "    pattern = r'(?P<filename>\\S+) \\[(?P<time>\\d+\\.\\d+-\\d+\\.\\d+)\\]: (?P<text>.+)'\n",
        "\n",
        "\n",
        "    for match in re.finditer(pattern, data):\n",
        "        extracted_transcription.append(match.groupdict())\n",
        "\n",
        "def extract_emotion_from_file(file_path):\n",
        "\n",
        "    with open(file_path, 'r') as file:\n",
        "        data = file.read()\n",
        "\n",
        "\n",
        "    pattern = r'\\[(?P<time>\\d+\\.\\d+ - \\d+\\.\\d+)\\]\\s+(?P<filename>\\S+)\\s+(?P<emotion>\\S+)\\s+\\[(?P<scores>[\\d\\.,\\s]+)\\]'\n",
        "\n",
        "\n",
        "    for match in re.finditer(pattern, data):\n",
        "        extracted_emotion.append(match.groupdict())\n",
        "\n",
        "\n",
        "def crawl_directory(path, target_directories):\n",
        "    for root, dirs, files in os.walk(path):\n",
        "       # print(f'Current directory: {root}')\n",
        "         print(\"ROOT:\",root)\n",
        "         #Filtering directories\n",
        "         dirs[:] = [d for d in dirs if d in target_directories]\n",
        "\n",
        "#         for dir_name in dirs:\n",
        "#             dir_path = os.path.join(root, dir_name)\n",
        "#             #print(f'Directory: {dir_path}')\n",
        "         print(\"DIR:\",dirs)\n",
        "\n",
        "         for file_name in files:\n",
        "            file_path = os.path.join(root, file_name)\n",
        "            if root == \"/content/drive/MyDrive/Session1/dialog/EmoEvaluation\":\n",
        "\n",
        "\n",
        "                extract_emotion_from_file(file_path)\n",
        "            elif root == \"/content/drive/MyDrive/Session1/dialog/transcriptions\":\n",
        "                extract_transcription(file_path)\n",
        "\n",
        "\n",
        "\n",
        "# Example usage: Crawl only through directories named 'target_dir'\n",
        "path = \"/content/drive/MyDrive/Session1\"\n",
        "target_dirs = ['Session1','dialog','EmoEvaluation','transcriptions']\n",
        "crawl_directory(path, target_dirs)\n"
      ],
      "metadata": {
        "colab": {
          "base_uri": "https://localhost:8080/"
        },
        "id": "tozfVdSGz1ef",
        "outputId": "a1baf15c-ab91-4ee5-889b-0fdcf24f355e"
      },
      "execution_count": null,
      "outputs": [
        {
          "output_type": "stream",
          "name": "stdout",
          "text": [
            "ROOT: /content/drive/MyDrive/Session1\n",
            "DIR: ['dialog']\n",
            "ROOT: /content/drive/MyDrive/Session1/dialog\n",
            "DIR: ['transcriptions', 'EmoEvaluation']\n",
            "ROOT: /content/drive/MyDrive/Session1/dialog/transcriptions\n",
            "DIR: []\n",
            "ROOT: /content/drive/MyDrive/Session1/dialog/EmoEvaluation\n",
            "DIR: []\n"
          ]
        }
      ]
    },
    {
      "cell_type": "code",
      "source": [
        "extracted_emotion[:2]"
      ],
      "metadata": {
        "id": "knBV4Kec2KqM",
        "colab": {
          "base_uri": "https://localhost:8080/"
        },
        "outputId": "23dbbc5f-009d-4f68-d4be-03c004d96b9d"
      },
      "execution_count": null,
      "outputs": [
        {
          "output_type": "execute_result",
          "data": {
            "text/plain": [
              "[{'time': '6.2100 - 9.3200',\n",
              "  'filename': 'Ses01F_script01_1_F000',\n",
              "  'emotion': 'fru',\n",
              "  'scores': '2.0000, 2.3333, 2.3333'},\n",
              " {'time': '9.3500 - 12.8955',\n",
              "  'filename': 'Ses01F_script01_1_F001',\n",
              "  'emotion': 'xxx',\n",
              "  'scores': '2.0000, 2.3333, 1.6667'}]"
            ]
          },
          "metadata": {},
          "execution_count": 114
        }
      ]
    },
    {
      "cell_type": "code",
      "source": [
        "data_emotion = pd.DataFrame(extracted_emotion)\n",
        "data_transcriptions = pd.DataFrame(extracted_transcription)\n",
        "\n"
      ],
      "metadata": {
        "id": "-48USanj0c9_"
      },
      "execution_count": null,
      "outputs": []
    },
    {
      "cell_type": "code",
      "source": [
        "data_emotion['text']=None"
      ],
      "metadata": {
        "id": "4USnsHJp26Cv"
      },
      "execution_count": null,
      "outputs": []
    },
    {
      "cell_type": "code",
      "source": [
        "for i in range(len(data_emotion)):\n",
        "    filename = data_emotion.iloc[i].filename\n",
        "    x = data_transcriptions[data_transcriptions['filename'] == filename].text\n",
        "    data_emotion.iloc[i,data_emotion.columns.get_loc('text')] = x.iloc[0]"
      ],
      "metadata": {
        "id": "2hHfE2le0mpj"
      },
      "execution_count": null,
      "outputs": []
    },
    {
      "cell_type": "markdown",
      "source": [
        "**DataFrame for each session**"
      ],
      "metadata": {
        "id": "akdJM4M6JGqY"
      }
    },
    {
      "cell_type": "code",
      "source": [
        "data_emotion"
      ],
      "metadata": {
        "colab": {
          "base_uri": "https://localhost:8080/",
          "height": 423
        },
        "id": "lWBe7EdY0q5m",
        "outputId": "c72d072d-e0de-43f9-fd89-6c56109a0f24"
      },
      "execution_count": null,
      "outputs": [
        {
          "output_type": "execute_result",
          "data": {
            "text/plain": [
              "                     time                filename emotion  \\\n",
              "0         6.2100 - 9.3200  Ses01F_script01_1_F000     fru   \n",
              "1        9.3500 - 12.8955  Ses01F_script01_1_F001     xxx   \n",
              "2       14.3063 - 19.5526  Ses01F_script01_1_F002     sur   \n",
              "3       22.3200 - 24.6667  Ses01F_script01_1_F003     xxx   \n",
              "4       35.3799 - 39.0900  Ses01F_script01_1_F004     xxx   \n",
              "...                   ...                     ...     ...   \n",
              "1814  497.8775 - 500.0400  Ses01M_script02_2_M050     neu   \n",
              "1815  509.1461 - 513.8400  Ses01M_script02_2_M051     neu   \n",
              "1816  525.2750 - 528.0391  Ses01M_script02_2_M052     hap   \n",
              "1817  528.9636 - 535.2345  Ses01M_script02_2_M053     hap   \n",
              "1818  539.5758 - 542.2691  Ses01M_script02_2_M054     neu   \n",
              "\n",
              "                      scores  \\\n",
              "0     2.0000, 2.3333, 2.3333   \n",
              "1     2.0000, 2.3333, 1.6667   \n",
              "2     2.3333, 2.3333, 2.6667   \n",
              "3     3.0000, 3.0000, 2.6667   \n",
              "4     2.0000, 2.0000, 2.0000   \n",
              "...                      ...   \n",
              "1814  3.0000, 2.5000, 1.5000   \n",
              "1815  4.5000, 4.5000, 1.0000   \n",
              "1816  5.0000, 4.0000, 1.5000   \n",
              "1817  5.0000, 4.5000, 1.5000   \n",
              "1818  5.0000, 5.0000, 1.5000   \n",
              "\n",
              "                                                   text  \n",
              "0                               What's he going to say?  \n",
              "1           Maybe we should tell him before he sees it.  \n",
              "2     How could he see it?  I was the first one up; ...  \n",
              "3                                                 When?  \n",
              "4     What was he doing out here at four o clock in ...  \n",
              "...                                                 ...  \n",
              "1814                                It's not champagne.  \n",
              "1815        Are you cold, huh?  Do you want to go home?  \n",
              "1816                                             Shh...  \n",
              "1817       If we are really quiet, the fish might come.  \n",
              "1818                                            Or not.  \n",
              "\n",
              "[1819 rows x 5 columns]"
            ],
            "text/html": [
              "\n",
              "  <div id=\"df-fdd44c94-af86-4cd3-9310-82e998f0ab89\" class=\"colab-df-container\">\n",
              "    <div>\n",
              "<style scoped>\n",
              "    .dataframe tbody tr th:only-of-type {\n",
              "        vertical-align: middle;\n",
              "    }\n",
              "\n",
              "    .dataframe tbody tr th {\n",
              "        vertical-align: top;\n",
              "    }\n",
              "\n",
              "    .dataframe thead th {\n",
              "        text-align: right;\n",
              "    }\n",
              "</style>\n",
              "<table border=\"1\" class=\"dataframe\">\n",
              "  <thead>\n",
              "    <tr style=\"text-align: right;\">\n",
              "      <th></th>\n",
              "      <th>time</th>\n",
              "      <th>filename</th>\n",
              "      <th>emotion</th>\n",
              "      <th>scores</th>\n",
              "      <th>text</th>\n",
              "    </tr>\n",
              "  </thead>\n",
              "  <tbody>\n",
              "    <tr>\n",
              "      <th>0</th>\n",
              "      <td>6.2100 - 9.3200</td>\n",
              "      <td>Ses01F_script01_1_F000</td>\n",
              "      <td>fru</td>\n",
              "      <td>2.0000, 2.3333, 2.3333</td>\n",
              "      <td>What's he going to say?</td>\n",
              "    </tr>\n",
              "    <tr>\n",
              "      <th>1</th>\n",
              "      <td>9.3500 - 12.8955</td>\n",
              "      <td>Ses01F_script01_1_F001</td>\n",
              "      <td>xxx</td>\n",
              "      <td>2.0000, 2.3333, 1.6667</td>\n",
              "      <td>Maybe we should tell him before he sees it.</td>\n",
              "    </tr>\n",
              "    <tr>\n",
              "      <th>2</th>\n",
              "      <td>14.3063 - 19.5526</td>\n",
              "      <td>Ses01F_script01_1_F002</td>\n",
              "      <td>sur</td>\n",
              "      <td>2.3333, 2.3333, 2.6667</td>\n",
              "      <td>How could he see it?  I was the first one up; ...</td>\n",
              "    </tr>\n",
              "    <tr>\n",
              "      <th>3</th>\n",
              "      <td>22.3200 - 24.6667</td>\n",
              "      <td>Ses01F_script01_1_F003</td>\n",
              "      <td>xxx</td>\n",
              "      <td>3.0000, 3.0000, 2.6667</td>\n",
              "      <td>When?</td>\n",
              "    </tr>\n",
              "    <tr>\n",
              "      <th>4</th>\n",
              "      <td>35.3799 - 39.0900</td>\n",
              "      <td>Ses01F_script01_1_F004</td>\n",
              "      <td>xxx</td>\n",
              "      <td>2.0000, 2.0000, 2.0000</td>\n",
              "      <td>What was he doing out here at four o clock in ...</td>\n",
              "    </tr>\n",
              "    <tr>\n",
              "      <th>...</th>\n",
              "      <td>...</td>\n",
              "      <td>...</td>\n",
              "      <td>...</td>\n",
              "      <td>...</td>\n",
              "      <td>...</td>\n",
              "    </tr>\n",
              "    <tr>\n",
              "      <th>1814</th>\n",
              "      <td>497.8775 - 500.0400</td>\n",
              "      <td>Ses01M_script02_2_M050</td>\n",
              "      <td>neu</td>\n",
              "      <td>3.0000, 2.5000, 1.5000</td>\n",
              "      <td>It's not champagne.</td>\n",
              "    </tr>\n",
              "    <tr>\n",
              "      <th>1815</th>\n",
              "      <td>509.1461 - 513.8400</td>\n",
              "      <td>Ses01M_script02_2_M051</td>\n",
              "      <td>neu</td>\n",
              "      <td>4.5000, 4.5000, 1.0000</td>\n",
              "      <td>Are you cold, huh?  Do you want to go home?</td>\n",
              "    </tr>\n",
              "    <tr>\n",
              "      <th>1816</th>\n",
              "      <td>525.2750 - 528.0391</td>\n",
              "      <td>Ses01M_script02_2_M052</td>\n",
              "      <td>hap</td>\n",
              "      <td>5.0000, 4.0000, 1.5000</td>\n",
              "      <td>Shh...</td>\n",
              "    </tr>\n",
              "    <tr>\n",
              "      <th>1817</th>\n",
              "      <td>528.9636 - 535.2345</td>\n",
              "      <td>Ses01M_script02_2_M053</td>\n",
              "      <td>hap</td>\n",
              "      <td>5.0000, 4.5000, 1.5000</td>\n",
              "      <td>If we are really quiet, the fish might come.</td>\n",
              "    </tr>\n",
              "    <tr>\n",
              "      <th>1818</th>\n",
              "      <td>539.5758 - 542.2691</td>\n",
              "      <td>Ses01M_script02_2_M054</td>\n",
              "      <td>neu</td>\n",
              "      <td>5.0000, 5.0000, 1.5000</td>\n",
              "      <td>Or not.</td>\n",
              "    </tr>\n",
              "  </tbody>\n",
              "</table>\n",
              "<p>1819 rows × 5 columns</p>\n",
              "</div>\n",
              "    <div class=\"colab-df-buttons\">\n",
              "\n",
              "  <div class=\"colab-df-container\">\n",
              "    <button class=\"colab-df-convert\" onclick=\"convertToInteractive('df-fdd44c94-af86-4cd3-9310-82e998f0ab89')\"\n",
              "            title=\"Convert this dataframe to an interactive table.\"\n",
              "            style=\"display:none;\">\n",
              "\n",
              "  <svg xmlns=\"http://www.w3.org/2000/svg\" height=\"24px\" viewBox=\"0 -960 960 960\">\n",
              "    <path d=\"M120-120v-720h720v720H120Zm60-500h600v-160H180v160Zm220 220h160v-160H400v160Zm0 220h160v-160H400v160ZM180-400h160v-160H180v160Zm440 0h160v-160H620v160ZM180-180h160v-160H180v160Zm440 0h160v-160H620v160Z\"/>\n",
              "  </svg>\n",
              "    </button>\n",
              "\n",
              "  <style>\n",
              "    .colab-df-container {\n",
              "      display:flex;\n",
              "      gap: 12px;\n",
              "    }\n",
              "\n",
              "    .colab-df-convert {\n",
              "      background-color: #E8F0FE;\n",
              "      border: none;\n",
              "      border-radius: 50%;\n",
              "      cursor: pointer;\n",
              "      display: none;\n",
              "      fill: #1967D2;\n",
              "      height: 32px;\n",
              "      padding: 0 0 0 0;\n",
              "      width: 32px;\n",
              "    }\n",
              "\n",
              "    .colab-df-convert:hover {\n",
              "      background-color: #E2EBFA;\n",
              "      box-shadow: 0px 1px 2px rgba(60, 64, 67, 0.3), 0px 1px 3px 1px rgba(60, 64, 67, 0.15);\n",
              "      fill: #174EA6;\n",
              "    }\n",
              "\n",
              "    .colab-df-buttons div {\n",
              "      margin-bottom: 4px;\n",
              "    }\n",
              "\n",
              "    [theme=dark] .colab-df-convert {\n",
              "      background-color: #3B4455;\n",
              "      fill: #D2E3FC;\n",
              "    }\n",
              "\n",
              "    [theme=dark] .colab-df-convert:hover {\n",
              "      background-color: #434B5C;\n",
              "      box-shadow: 0px 1px 3px 1px rgba(0, 0, 0, 0.15);\n",
              "      filter: drop-shadow(0px 1px 2px rgba(0, 0, 0, 0.3));\n",
              "      fill: #FFFFFF;\n",
              "    }\n",
              "  </style>\n",
              "\n",
              "    <script>\n",
              "      const buttonEl =\n",
              "        document.querySelector('#df-fdd44c94-af86-4cd3-9310-82e998f0ab89 button.colab-df-convert');\n",
              "      buttonEl.style.display =\n",
              "        google.colab.kernel.accessAllowed ? 'block' : 'none';\n",
              "\n",
              "      async function convertToInteractive(key) {\n",
              "        const element = document.querySelector('#df-fdd44c94-af86-4cd3-9310-82e998f0ab89');\n",
              "        const dataTable =\n",
              "          await google.colab.kernel.invokeFunction('convertToInteractive',\n",
              "                                                    [key], {});\n",
              "        if (!dataTable) return;\n",
              "\n",
              "        const docLinkHtml = 'Like what you see? Visit the ' +\n",
              "          '<a target=\"_blank\" href=https://colab.research.google.com/notebooks/data_table.ipynb>data table notebook</a>'\n",
              "          + ' to learn more about interactive tables.';\n",
              "        element.innerHTML = '';\n",
              "        dataTable['output_type'] = 'display_data';\n",
              "        await google.colab.output.renderOutput(dataTable, element);\n",
              "        const docLink = document.createElement('div');\n",
              "        docLink.innerHTML = docLinkHtml;\n",
              "        element.appendChild(docLink);\n",
              "      }\n",
              "    </script>\n",
              "  </div>\n",
              "\n",
              "\n",
              "<div id=\"df-dc3c1fb5-6baa-4f5c-8a29-544a6bd97ddc\">\n",
              "  <button class=\"colab-df-quickchart\" onclick=\"quickchart('df-dc3c1fb5-6baa-4f5c-8a29-544a6bd97ddc')\"\n",
              "            title=\"Suggest charts\"\n",
              "            style=\"display:none;\">\n",
              "\n",
              "<svg xmlns=\"http://www.w3.org/2000/svg\" height=\"24px\"viewBox=\"0 0 24 24\"\n",
              "     width=\"24px\">\n",
              "    <g>\n",
              "        <path d=\"M19 3H5c-1.1 0-2 .9-2 2v14c0 1.1.9 2 2 2h14c1.1 0 2-.9 2-2V5c0-1.1-.9-2-2-2zM9 17H7v-7h2v7zm4 0h-2V7h2v10zm4 0h-2v-4h2v4z\"/>\n",
              "    </g>\n",
              "</svg>\n",
              "  </button>\n",
              "\n",
              "<style>\n",
              "  .colab-df-quickchart {\n",
              "      --bg-color: #E8F0FE;\n",
              "      --fill-color: #1967D2;\n",
              "      --hover-bg-color: #E2EBFA;\n",
              "      --hover-fill-color: #174EA6;\n",
              "      --disabled-fill-color: #AAA;\n",
              "      --disabled-bg-color: #DDD;\n",
              "  }\n",
              "\n",
              "  [theme=dark] .colab-df-quickchart {\n",
              "      --bg-color: #3B4455;\n",
              "      --fill-color: #D2E3FC;\n",
              "      --hover-bg-color: #434B5C;\n",
              "      --hover-fill-color: #FFFFFF;\n",
              "      --disabled-bg-color: #3B4455;\n",
              "      --disabled-fill-color: #666;\n",
              "  }\n",
              "\n",
              "  .colab-df-quickchart {\n",
              "    background-color: var(--bg-color);\n",
              "    border: none;\n",
              "    border-radius: 50%;\n",
              "    cursor: pointer;\n",
              "    display: none;\n",
              "    fill: var(--fill-color);\n",
              "    height: 32px;\n",
              "    padding: 0;\n",
              "    width: 32px;\n",
              "  }\n",
              "\n",
              "  .colab-df-quickchart:hover {\n",
              "    background-color: var(--hover-bg-color);\n",
              "    box-shadow: 0 1px 2px rgba(60, 64, 67, 0.3), 0 1px 3px 1px rgba(60, 64, 67, 0.15);\n",
              "    fill: var(--button-hover-fill-color);\n",
              "  }\n",
              "\n",
              "  .colab-df-quickchart-complete:disabled,\n",
              "  .colab-df-quickchart-complete:disabled:hover {\n",
              "    background-color: var(--disabled-bg-color);\n",
              "    fill: var(--disabled-fill-color);\n",
              "    box-shadow: none;\n",
              "  }\n",
              "\n",
              "  .colab-df-spinner {\n",
              "    border: 2px solid var(--fill-color);\n",
              "    border-color: transparent;\n",
              "    border-bottom-color: var(--fill-color);\n",
              "    animation:\n",
              "      spin 1s steps(1) infinite;\n",
              "  }\n",
              "\n",
              "  @keyframes spin {\n",
              "    0% {\n",
              "      border-color: transparent;\n",
              "      border-bottom-color: var(--fill-color);\n",
              "      border-left-color: var(--fill-color);\n",
              "    }\n",
              "    20% {\n",
              "      border-color: transparent;\n",
              "      border-left-color: var(--fill-color);\n",
              "      border-top-color: var(--fill-color);\n",
              "    }\n",
              "    30% {\n",
              "      border-color: transparent;\n",
              "      border-left-color: var(--fill-color);\n",
              "      border-top-color: var(--fill-color);\n",
              "      border-right-color: var(--fill-color);\n",
              "    }\n",
              "    40% {\n",
              "      border-color: transparent;\n",
              "      border-right-color: var(--fill-color);\n",
              "      border-top-color: var(--fill-color);\n",
              "    }\n",
              "    60% {\n",
              "      border-color: transparent;\n",
              "      border-right-color: var(--fill-color);\n",
              "    }\n",
              "    80% {\n",
              "      border-color: transparent;\n",
              "      border-right-color: var(--fill-color);\n",
              "      border-bottom-color: var(--fill-color);\n",
              "    }\n",
              "    90% {\n",
              "      border-color: transparent;\n",
              "      border-bottom-color: var(--fill-color);\n",
              "    }\n",
              "  }\n",
              "</style>\n",
              "\n",
              "  <script>\n",
              "    async function quickchart(key) {\n",
              "      const quickchartButtonEl =\n",
              "        document.querySelector('#' + key + ' button');\n",
              "      quickchartButtonEl.disabled = true;  // To prevent multiple clicks.\n",
              "      quickchartButtonEl.classList.add('colab-df-spinner');\n",
              "      try {\n",
              "        const charts = await google.colab.kernel.invokeFunction(\n",
              "            'suggestCharts', [key], {});\n",
              "      } catch (error) {\n",
              "        console.error('Error during call to suggestCharts:', error);\n",
              "      }\n",
              "      quickchartButtonEl.classList.remove('colab-df-spinner');\n",
              "      quickchartButtonEl.classList.add('colab-df-quickchart-complete');\n",
              "    }\n",
              "    (() => {\n",
              "      let quickchartButtonEl =\n",
              "        document.querySelector('#df-dc3c1fb5-6baa-4f5c-8a29-544a6bd97ddc button');\n",
              "      quickchartButtonEl.style.display =\n",
              "        google.colab.kernel.accessAllowed ? 'block' : 'none';\n",
              "    })();\n",
              "  </script>\n",
              "</div>\n",
              "    </div>\n",
              "  </div>\n"
            ],
            "application/vnd.google.colaboratory.intrinsic+json": {
              "type": "dataframe",
              "variable_name": "data_emotion",
              "summary": "{\n  \"name\": \"data_emotion\",\n  \"rows\": 1819,\n  \"fields\": [\n    {\n      \"column\": \"time\",\n      \"properties\": {\n        \"dtype\": \"string\",\n        \"num_unique_values\": 1819,\n        \"samples\": [\n          \"191.0500 - 192.2475\",\n          \"111.9467 - 120.1828\",\n          \"56.1600 - 58.8225\"\n        ],\n        \"semantic_type\": \"\",\n        \"description\": \"\"\n      }\n    },\n    {\n      \"column\": \"filename\",\n      \"properties\": {\n        \"dtype\": \"string\",\n        \"num_unique_values\": 1819,\n        \"samples\": [\n          \"Ses01M_impro07_F032\",\n          \"Ses01M_script01_3_M009\",\n          \"Ses01F_impro01_F008\"\n        ],\n        \"semantic_type\": \"\",\n        \"description\": \"\"\n      }\n    },\n    {\n      \"column\": \"emotion\",\n      \"properties\": {\n        \"dtype\": \"category\",\n        \"num_unique_values\": 11,\n        \"samples\": [\n          \"sad\",\n          \"fru\",\n          \"fea\"\n        ],\n        \"semantic_type\": \"\",\n        \"description\": \"\"\n      }\n    },\n    {\n      \"column\": \"scores\",\n      \"properties\": {\n        \"dtype\": \"category\",\n        \"num_unique_values\": 463,\n        \"samples\": [\n          \"3.5000, 3.5000, 3.5000\",\n          \"2.0000, 2.0000, 2.6667\",\n          \"1.6667, 4.6667, 4.3333\"\n        ],\n        \"semantic_type\": \"\",\n        \"description\": \"\"\n      }\n    },\n    {\n      \"column\": \"text\",\n      \"properties\": {\n        \"dtype\": \"string\",\n        \"num_unique_values\": 1599,\n        \"samples\": [\n          \"No you're not.\",\n          \"Excuse me.\",\n          \"What did he do?  What was so great?  I don't understand why they would pick him over me.\"\n        ],\n        \"semantic_type\": \"\",\n        \"description\": \"\"\n      }\n    }\n  ]\n}"
            }
          },
          "metadata": {},
          "execution_count": 118
        }
      ]
    },
    {
      "cell_type": "code",
      "source": [
        "text_data = data_emotion.copy()"
      ],
      "metadata": {
        "id": "FPqQVVHG0tMa"
      },
      "execution_count": null,
      "outputs": []
    },
    {
      "cell_type": "code",
      "source": [
        "text_data['emotion'] = text_data['emotion'].replace('xxx','neu')"
      ],
      "metadata": {
        "id": "5WIlEwhI0wyy"
      },
      "execution_count": null,
      "outputs": []
    },
    {
      "cell_type": "code",
      "source": [
        "text_data"
      ],
      "metadata": {
        "id": "NznUgFdzh_0X"
      },
      "execution_count": null,
      "outputs": []
    },
    {
      "cell_type": "markdown",
      "source": [
        "**Saving DataFrame as pickle file**"
      ],
      "metadata": {
        "id": "OAETlaojJaNK"
      }
    },
    {
      "cell_type": "code",
      "source": [
        "path = '/content/drive/MyDrive/dataframe_ses1.pickle'\n",
        "\n",
        "\n",
        "# Open the file in binary write mode\n",
        "with open(path, 'wb') as f:\n",
        "    # Dump the data into the file\n",
        "    pickle.dump(text_data, f)"
      ],
      "metadata": {
        "id": "9F-VBbHJk3px"
      },
      "execution_count": null,
      "outputs": []
    }
  ]
}